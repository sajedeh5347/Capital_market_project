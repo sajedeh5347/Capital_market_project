{
 "cells": [
  {
   "cell_type": "code",
   "execution_count": 1,
   "id": "aeb656bc",
   "metadata": {
    "ExecuteTime": {
     "end_time": "2023-11-16T06:27:19.122729Z",
     "start_time": "2023-11-16T06:27:05.636062Z"
    }
   },
   "outputs": [],
   "source": [
    "import pandas as pd\n",
    "import numpy as np\n",
    "from matplotlib import pyplot as plt\n",
    "from sklearn.model_selection import TimeSeriesSplit\n",
    "from sklearn.model_selection import RepeatedStratifiedKFold, StratifiedKFold\n",
    "from sklearn.model_selection import KFold\n",
    "from sklearn.model_selection import train_test_split\n",
    "from sklearn.model_selection import cross_val_score\n",
    "from sklearn.pipeline import Pipeline\n",
    "from sklearn.tree import DecisionTreeClassifier\n",
    "from sklearn.metrics import classification_report\n",
    "from sklearn.tree import DecisionTreeRegressor\n",
    "from sklearn.ensemble import RandomForestClassifier\n",
    "from sklearn.ensemble import ExtraTreesClassifier \n",
    "from sklearn.ensemble import AdaBoostClassifier \n",
    "from sklearn.ensemble import GradientBoostingClassifier\n",
    "from sklearn.neighbors import KNeighborsClassifier\n",
    "from sklearn.ensemble import RandomForestRegressor\n",
    "from sklearn.metrics import accuracy_score\n",
    "from sklearn.model_selection import GridSearchCV\n",
    "from sklearn.model_selection import RandomizedSearchCV\n",
    "from sklearn import svm\n",
    "from sklearn.neural_network import MLPClassifier\n",
    "from sklearn.linear_model import LogisticRegression\n",
    "from sklearn.discriminant_analysis import LinearDiscriminantAnalysis\n",
    "from sklearn.naive_bayes import GaussianNB\n",
    "from sklearn.preprocessing import MinMaxScaler\n",
    "from keras.models import Sequential\n",
    "from keras.layers import Dense, LSTM, Dropout,Input,Normalization\n",
    "from eval_class import *\n",
    "from keras.callbacks import EarlyStopping\n",
    "from keras import regularizers"
   ]
  },
  {
   "cell_type": "code",
   "execution_count": 2,
   "id": "dff06207",
   "metadata": {
    "ExecuteTime": {
     "end_time": "2023-11-16T06:27:19.169612Z",
     "start_time": "2023-11-16T06:27:19.139600Z"
    }
   },
   "outputs": [],
   "source": [
    "Predict_price_train = pd.read_csv(r'Predict_price_train.csv')\n",
    "Predict_price_valid = pd.read_csv(r'Predict_price_valid.csv')"
   ]
  },
  {
   "cell_type": "code",
   "execution_count": 3,
   "id": "5f9b3705",
   "metadata": {
    "ExecuteTime": {
     "end_time": "2023-11-16T06:27:19.308804Z",
     "start_time": "2023-11-16T06:27:19.202149Z"
    }
   },
   "outputs": [],
   "source": [
    "df = pd.read_csv(r'C:\\Users\\Sharif\\Downloads\\feature-rasad-target1 (2).csv')\n",
    "df=df.drop(['Unnamed: 0'],axis=1)\n",
    "L=[]\n",
    "for  i in range(len(df)):\n",
    "    L.append(df['v_i_buy'][i]+df['v_n_buy'][i]+df['v_i_sell'][i]+df['v_n_sell'][i])\n",
    "df['volume']=L\n",
    "#calculate features\n",
    "df['f18'] = (df['v_i_sell'].rolling(5).mean().apply(np.log)).tolist()\n",
    "df['f33'] = (df['v_i_buy']/df['n_i_buy']).tolist()\n",
    "df['f34'] = (df['v_n_buy']/df['n_n_buy']).tolist()\n",
    "df['f35'] = (df['v_i_sell']/df['n_i_sell']).tolist()\n",
    "df['f36'] = (df['v_n_sell']/df['n_n_sell']).tolist()\n",
    "df['f20'] = (df.volume/df.volume.rolling(200).mean()-1).tolist()"
   ]
  },
  {
   "cell_type": "code",
   "execution_count": 4,
   "id": "3daee324",
   "metadata": {
    "ExecuteTime": {
     "end_time": "2023-11-16T06:27:19.370533Z",
     "start_time": "2023-11-16T06:27:19.341900Z"
    }
   },
   "outputs": [],
   "source": [
    "rasad = pd.read_csv(r'C:\\Users\\Sharif\\Downloads\\Compressed\\data_mining_test_Project\\Data.csv')"
   ]
  },
  {
   "cell_type": "code",
   "execution_count": 5,
   "id": "68148375",
   "metadata": {
    "ExecuteTime": {
     "end_time": "2023-11-16T06:27:19.432442Z",
     "start_time": "2023-11-16T06:27:19.419399Z"
    }
   },
   "outputs": [],
   "source": [
    "rasad=rasad.drop(['Unnamed: 0'],axis=1)\n",
    "rasad=rasad.drop(['signal'],axis=1)\n",
    "train=rasad[:1907]\n",
    "validation=rasad[1907:]"
   ]
  },
  {
   "cell_type": "code",
   "execution_count": 6,
   "id": "dd5e240e",
   "metadata": {
    "ExecuteTime": {
     "end_time": "2023-11-16T06:27:19.527869Z",
     "start_time": "2023-11-16T06:27:19.498116Z"
    }
   },
   "outputs": [
    {
     "data": {
      "text/html": [
       "<div>\n",
       "<style scoped>\n",
       "    .dataframe tbody tr th:only-of-type {\n",
       "        vertical-align: middle;\n",
       "    }\n",
       "\n",
       "    .dataframe tbody tr th {\n",
       "        vertical-align: top;\n",
       "    }\n",
       "\n",
       "    .dataframe thead th {\n",
       "        text-align: right;\n",
       "    }\n",
       "</style>\n",
       "<table border=\"1\" class=\"dataframe\">\n",
       "  <thead>\n",
       "    <tr style=\"text-align: right;\">\n",
       "      <th></th>\n",
       "      <th>Close_pred</th>\n",
       "      <th>close</th>\n",
       "      <th>Date</th>\n",
       "    </tr>\n",
       "  </thead>\n",
       "  <tbody>\n",
       "    <tr>\n",
       "      <th>0</th>\n",
       "      <td>12114.414</td>\n",
       "      <td>12500</td>\n",
       "      <td>20110806</td>\n",
       "    </tr>\n",
       "    <tr>\n",
       "      <th>1</th>\n",
       "      <td>12113.396</td>\n",
       "      <td>12500</td>\n",
       "      <td>20110807</td>\n",
       "    </tr>\n",
       "    <tr>\n",
       "      <th>2</th>\n",
       "      <td>12113.257</td>\n",
       "      <td>12500</td>\n",
       "      <td>20110808</td>\n",
       "    </tr>\n",
       "    <tr>\n",
       "      <th>3</th>\n",
       "      <td>12113.564</td>\n",
       "      <td>12490</td>\n",
       "      <td>20110809</td>\n",
       "    </tr>\n",
       "    <tr>\n",
       "      <th>4</th>\n",
       "      <td>12111.791</td>\n",
       "      <td>12350</td>\n",
       "      <td>20110810</td>\n",
       "    </tr>\n",
       "    <tr>\n",
       "      <th>...</th>\n",
       "      <td>...</td>\n",
       "      <td>...</td>\n",
       "      <td>...</td>\n",
       "    </tr>\n",
       "    <tr>\n",
       "      <th>1887</th>\n",
       "      <td>91606.945</td>\n",
       "      <td>103391</td>\n",
       "      <td>20200427</td>\n",
       "    </tr>\n",
       "    <tr>\n",
       "      <th>1888</th>\n",
       "      <td>95065.970</td>\n",
       "      <td>107117</td>\n",
       "      <td>20200428</td>\n",
       "    </tr>\n",
       "    <tr>\n",
       "      <th>1889</th>\n",
       "      <td>99141.080</td>\n",
       "      <td>111480</td>\n",
       "      <td>20200429</td>\n",
       "    </tr>\n",
       "    <tr>\n",
       "      <th>1890</th>\n",
       "      <td>103581.060</td>\n",
       "      <td>117054</td>\n",
       "      <td>20200502</td>\n",
       "    </tr>\n",
       "    <tr>\n",
       "      <th>1891</th>\n",
       "      <td>108547.640</td>\n",
       "      <td>122906</td>\n",
       "      <td>20200503</td>\n",
       "    </tr>\n",
       "  </tbody>\n",
       "</table>\n",
       "<p>1892 rows × 3 columns</p>\n",
       "</div>"
      ],
      "text/plain": [
       "      Close_pred   close      Date\n",
       "0      12114.414   12500  20110806\n",
       "1      12113.396   12500  20110807\n",
       "2      12113.257   12500  20110808\n",
       "3      12113.564   12490  20110809\n",
       "4      12111.791   12350  20110810\n",
       "...          ...     ...       ...\n",
       "1887   91606.945  103391  20200427\n",
       "1888   95065.970  107117  20200428\n",
       "1889   99141.080  111480  20200429\n",
       "1890  103581.060  117054  20200502\n",
       "1891  108547.640  122906  20200503\n",
       "\n",
       "[1892 rows x 3 columns]"
      ]
     },
     "execution_count": 6,
     "metadata": {},
     "output_type": "execute_result"
    }
   ],
   "source": [
    "Predict_price_train"
   ]
  },
  {
   "cell_type": "code",
   "execution_count": 7,
   "id": "271ebeb3",
   "metadata": {
    "ExecuteTime": {
     "end_time": "2023-11-16T06:27:19.635907Z",
     "start_time": "2023-11-16T06:27:19.607722Z"
    }
   },
   "outputs": [
    {
     "name": "stderr",
     "output_type": "stream",
     "text": [
      "C:\\Users\\Sharif\\AppData\\Local\\Temp\\ipykernel_10864\\2797451313.py:2: SettingWithCopyWarning: \n",
      "A value is trying to be set on a copy of a slice from a DataFrame.\n",
      "Try using .loc[row_indexer,col_indexer] = value instead\n",
      "\n",
      "See the caveats in the documentation: https://pandas.pydata.org/pandas-docs/stable/user_guide/indexing.html#returning-a-view-versus-a-copy\n",
      "  train1['Close_Pred']=Predict_price_train.Close_pred.tolist()\n",
      "C:\\Users\\Sharif\\AppData\\Local\\Temp\\ipykernel_10864\\2797451313.py:3: SettingWithCopyWarning: \n",
      "A value is trying to be set on a copy of a slice from a DataFrame.\n",
      "Try using .loc[row_indexer,col_indexer] = value instead\n",
      "\n",
      "See the caveats in the documentation: https://pandas.pydata.org/pandas-docs/stable/user_guide/indexing.html#returning-a-view-versus-a-copy\n",
      "  train1['return1'] = np.log(train1['Close_Pred'].shift(-10)/train1['Close_Pred'])\n"
     ]
    },
    {
     "data": {
      "text/plain": [
       "count    1882.000000\n",
       "mean        0.010871\n",
       "std         0.096664\n",
       "min        -0.332467\n",
       "25%        -0.041373\n",
       "50%         0.004962\n",
       "75%         0.066242\n",
       "max         0.387937\n",
       "Name: Close_Pred, dtype: float64"
      ]
     },
     "execution_count": 7,
     "metadata": {},
     "output_type": "execute_result"
    }
   ],
   "source": [
    "train1 = train[15:]\n",
    "train1['Close_Pred']=Predict_price_train.Close_pred.tolist()\n",
    "train1['return1'] = np.log(train1['Close_Pred'].shift(-10)/train1['Close_Pred'])\n",
    "a=np.log(train1['Close_Pred'].shift(-10)/train1['Close_Pred'])\n",
    "a.describe()"
   ]
  },
  {
   "cell_type": "code",
   "execution_count": 8,
   "id": "06f203d5",
   "metadata": {
    "ExecuteTime": {
     "end_time": "2023-11-16T06:27:19.745972Z",
     "start_time": "2023-11-16T06:27:19.716321Z"
    }
   },
   "outputs": [
    {
     "name": "stderr",
     "output_type": "stream",
     "text": [
      "C:\\Users\\Sharif\\AppData\\Local\\Temp\\ipykernel_10864\\3730313167.py:1: SettingWithCopyWarning: \n",
      "A value is trying to be set on a copy of a slice from a DataFrame.\n",
      "Try using .loc[row_indexer,col_indexer] = value instead\n",
      "\n",
      "See the caveats in the documentation: https://pandas.pydata.org/pandas-docs/stable/user_guide/indexing.html#returning-a-view-versus-a-copy\n",
      "  train1['target1'] = np.where((train1['return1'] <-0.02) , 1, np.where(train1['return1'] >   0.03, -1, 0))\n"
     ]
    }
   ],
   "source": [
    "train1['target1'] = np.where((train1['return1'] <-0.02) , 1, np.where(train1['return1'] >   0.03, -1, 0))\n",
    "train1 = train1.merge(df, left_on='Date', right_on='Date')"
   ]
  },
  {
   "cell_type": "code",
   "execution_count": 9,
   "id": "f582aa52",
   "metadata": {
    "ExecuteTime": {
     "end_time": "2023-11-16T06:27:19.887105Z",
     "start_time": "2023-11-16T06:27:19.824649Z"
    }
   },
   "outputs": [
    {
     "name": "stdout",
     "output_type": "stream",
     "text": [
      "profit: 2027.1026 \n",
      "win_rate: 0.9796\n"
     ]
    }
   ],
   "source": [
    "datas={\n",
    "    \"signal\":train1.target1.tolist(),\n",
    "    \"close\":train1.Close_x.tolist() \n",
    "}\n",
    "y1=pd.DataFrame(datas)\n",
    "profit, win_rate = eval_strategy(y1)\n",
    "print(\"profit:\", profit,\"\\nwin_rate:\", win_rate)"
   ]
  },
  {
   "cell_type": "code",
   "execution_count": 10,
   "id": "098198f5",
   "metadata": {
    "ExecuteTime": {
     "end_time": "2023-11-16T06:27:20.028344Z",
     "start_time": "2023-11-16T06:27:19.969050Z"
    }
   },
   "outputs": [
    {
     "name": "stdout",
     "output_type": "stream",
     "text": [
      "profit: 9.82 \n",
      "win_rate: 1.0\n"
     ]
    }
   ],
   "source": [
    "L=[-1]\n",
    "for i in range(len(train1)-2):\n",
    "    L.append(0)\n",
    "L.append(1)\n",
    "\n",
    "datas={\n",
    "    \"signal\":L,\n",
    "    \"close\":train1.Close_x.tolist() \n",
    "}\n",
    "y1=pd.DataFrame(datas)\n",
    "profit, win_rate = eval_strategy(y1)\n",
    "print(\"profit:\", profit,\"\\nwin_rate:\", win_rate)"
   ]
  },
  {
   "cell_type": "code",
   "execution_count": 11,
   "id": "15eb435b",
   "metadata": {
    "ExecuteTime": {
     "end_time": "2023-11-16T06:27:20.137346Z",
     "start_time": "2023-11-16T06:27:20.109309Z"
    }
   },
   "outputs": [
    {
     "data": {
      "text/html": [
       "<div>\n",
       "<style scoped>\n",
       "    .dataframe tbody tr th:only-of-type {\n",
       "        vertical-align: middle;\n",
       "    }\n",
       "\n",
       "    .dataframe tbody tr th {\n",
       "        vertical-align: top;\n",
       "    }\n",
       "\n",
       "    .dataframe thead th {\n",
       "        text-align: right;\n",
       "    }\n",
       "</style>\n",
       "<table border=\"1\" class=\"dataframe\">\n",
       "  <thead>\n",
       "    <tr style=\"text-align: right;\">\n",
       "      <th></th>\n",
       "      <th>Date</th>\n",
       "      <th>Open_x</th>\n",
       "      <th>High_x</th>\n",
       "      <th>Low_x</th>\n",
       "      <th>Close_x</th>\n",
       "      <th>v_i_buy_x</th>\n",
       "      <th>v_n_buy_x</th>\n",
       "      <th>v_i_sell_x</th>\n",
       "      <th>v_n_sell_x</th>\n",
       "      <th>n_i_buy_x</th>\n",
       "      <th>...</th>\n",
       "      <th>return</th>\n",
       "      <th>target</th>\n",
       "      <th>RSI_Signal</th>\n",
       "      <th>volume</th>\n",
       "      <th>f18</th>\n",
       "      <th>f33</th>\n",
       "      <th>f34</th>\n",
       "      <th>f35</th>\n",
       "      <th>f36</th>\n",
       "      <th>f20</th>\n",
       "    </tr>\n",
       "  </thead>\n",
       "  <tbody>\n",
       "    <tr>\n",
       "      <th>0</th>\n",
       "      <td>20110806</td>\n",
       "      <td>12500</td>\n",
       "      <td>12501</td>\n",
       "      <td>12300</td>\n",
       "      <td>12500</td>\n",
       "      <td>3907.0</td>\n",
       "      <td>2408466.0</td>\n",
       "      <td>2136072.0</td>\n",
       "      <td>276301.0</td>\n",
       "      <td>7.0</td>\n",
       "      <td>...</td>\n",
       "      <td>-0.000222</td>\n",
       "      <td>0</td>\n",
       "      <td>0</td>\n",
       "      <td>4824746.0</td>\n",
       "      <td>13.648209</td>\n",
       "      <td>558.142857</td>\n",
       "      <td>4.816932e+05</td>\n",
       "      <td>10680.360000</td>\n",
       "      <td>4.605017e+04</td>\n",
       "      <td>NaN</td>\n",
       "    </tr>\n",
       "    <tr>\n",
       "      <th>1</th>\n",
       "      <td>20110807</td>\n",
       "      <td>12500</td>\n",
       "      <td>12501</td>\n",
       "      <td>12500</td>\n",
       "      <td>12500</td>\n",
       "      <td>200.0</td>\n",
       "      <td>1828241.0</td>\n",
       "      <td>927606.0</td>\n",
       "      <td>900835.0</td>\n",
       "      <td>1.0</td>\n",
       "      <td>...</td>\n",
       "      <td>0.000000</td>\n",
       "      <td>0</td>\n",
       "      <td>0</td>\n",
       "      <td>3656882.0</td>\n",
       "      <td>13.764563</td>\n",
       "      <td>200.000000</td>\n",
       "      <td>1.828241e+06</td>\n",
       "      <td>4294.472222</td>\n",
       "      <td>1.501392e+05</td>\n",
       "      <td>NaN</td>\n",
       "    </tr>\n",
       "    <tr>\n",
       "      <th>2</th>\n",
       "      <td>20110808</td>\n",
       "      <td>12500</td>\n",
       "      <td>12533</td>\n",
       "      <td>12500</td>\n",
       "      <td>12500</td>\n",
       "      <td>52000.0</td>\n",
       "      <td>1243899.0</td>\n",
       "      <td>795899.0</td>\n",
       "      <td>500000.0</td>\n",
       "      <td>2.0</td>\n",
       "      <td>...</td>\n",
       "      <td>0.000000</td>\n",
       "      <td>0</td>\n",
       "      <td>0</td>\n",
       "      <td>2591798.0</td>\n",
       "      <td>13.773074</td>\n",
       "      <td>26000.000000</td>\n",
       "      <td>1.243899e+06</td>\n",
       "      <td>6920.860870</td>\n",
       "      <td>1.666667e+05</td>\n",
       "      <td>NaN</td>\n",
       "    </tr>\n",
       "    <tr>\n",
       "      <th>3</th>\n",
       "      <td>20110809</td>\n",
       "      <td>12500</td>\n",
       "      <td>12500</td>\n",
       "      <td>12102</td>\n",
       "      <td>12490</td>\n",
       "      <td>5094.0</td>\n",
       "      <td>4161382.0</td>\n",
       "      <td>476197.0</td>\n",
       "      <td>3690279.0</td>\n",
       "      <td>5.0</td>\n",
       "      <td>...</td>\n",
       "      <td>-0.002225</td>\n",
       "      <td>0</td>\n",
       "      <td>0</td>\n",
       "      <td>8332952.0</td>\n",
       "      <td>13.768525</td>\n",
       "      <td>1018.800000</td>\n",
       "      <td>1.387127e+06</td>\n",
       "      <td>9718.306122</td>\n",
       "      <td>1.230093e+06</td>\n",
       "      <td>NaN</td>\n",
       "    </tr>\n",
       "    <tr>\n",
       "      <th>4</th>\n",
       "      <td>20110810</td>\n",
       "      <td>12489</td>\n",
       "      <td>12498</td>\n",
       "      <td>12300</td>\n",
       "      <td>12350</td>\n",
       "      <td>6590.0</td>\n",
       "      <td>325571.0</td>\n",
       "      <td>332161.0</td>\n",
       "      <td>0.0</td>\n",
       "      <td>3.0</td>\n",
       "      <td>...</td>\n",
       "      <td>-0.031677</td>\n",
       "      <td>0</td>\n",
       "      <td>-1</td>\n",
       "      <td>664322.0</td>\n",
       "      <td>13.746789</td>\n",
       "      <td>2196.666667</td>\n",
       "      <td>1.627855e+05</td>\n",
       "      <td>9226.694444</td>\n",
       "      <td>NaN</td>\n",
       "      <td>NaN</td>\n",
       "    </tr>\n",
       "    <tr>\n",
       "      <th>...</th>\n",
       "      <td>...</td>\n",
       "      <td>...</td>\n",
       "      <td>...</td>\n",
       "      <td>...</td>\n",
       "      <td>...</td>\n",
       "      <td>...</td>\n",
       "      <td>...</td>\n",
       "      <td>...</td>\n",
       "      <td>...</td>\n",
       "      <td>...</td>\n",
       "      <td>...</td>\n",
       "      <td>...</td>\n",
       "      <td>...</td>\n",
       "      <td>...</td>\n",
       "      <td>...</td>\n",
       "      <td>...</td>\n",
       "      <td>...</td>\n",
       "      <td>...</td>\n",
       "      <td>...</td>\n",
       "      <td>...</td>\n",
       "      <td>...</td>\n",
       "    </tr>\n",
       "    <tr>\n",
       "      <th>1887</th>\n",
       "      <td>20200427</td>\n",
       "      <td>98000</td>\n",
       "      <td>103391</td>\n",
       "      <td>97545</td>\n",
       "      <td>103391</td>\n",
       "      <td>1840841.0</td>\n",
       "      <td>719000.0</td>\n",
       "      <td>1976595.0</td>\n",
       "      <td>583246.0</td>\n",
       "      <td>953.0</td>\n",
       "      <td>...</td>\n",
       "      <td>0.058175</td>\n",
       "      <td>0</td>\n",
       "      <td>1</td>\n",
       "      <td>5119682.0</td>\n",
       "      <td>14.554838</td>\n",
       "      <td>1931.627492</td>\n",
       "      <td>2.396667e+05</td>\n",
       "      <td>2193.779134</td>\n",
       "      <td>1.166492e+05</td>\n",
       "      <td>NaN</td>\n",
       "    </tr>\n",
       "    <tr>\n",
       "      <th>1888</th>\n",
       "      <td>20200428</td>\n",
       "      <td>106990</td>\n",
       "      <td>107117</td>\n",
       "      <td>103000</td>\n",
       "      <td>107117</td>\n",
       "      <td>1617222.0</td>\n",
       "      <td>341736.0</td>\n",
       "      <td>1267708.0</td>\n",
       "      <td>691250.0</td>\n",
       "      <td>1179.0</td>\n",
       "      <td>...</td>\n",
       "      <td>0.038317</td>\n",
       "      <td>0</td>\n",
       "      <td>1</td>\n",
       "      <td>3917916.0</td>\n",
       "      <td>14.478225</td>\n",
       "      <td>1371.689567</td>\n",
       "      <td>5.695600e+04</td>\n",
       "      <td>1821.419540</td>\n",
       "      <td>8.640625e+04</td>\n",
       "      <td>NaN</td>\n",
       "    </tr>\n",
       "    <tr>\n",
       "      <th>1889</th>\n",
       "      <td>20200429</td>\n",
       "      <td>111480</td>\n",
       "      <td>111480</td>\n",
       "      <td>111480</td>\n",
       "      <td>111480</td>\n",
       "      <td>3024413.0</td>\n",
       "      <td>1799965.0</td>\n",
       "      <td>603906.0</td>\n",
       "      <td>4220472.0</td>\n",
       "      <td>778.0</td>\n",
       "      <td>...</td>\n",
       "      <td>0.043077</td>\n",
       "      <td>0</td>\n",
       "      <td>1</td>\n",
       "      <td>9648756.0</td>\n",
       "      <td>14.354453</td>\n",
       "      <td>3887.420308</td>\n",
       "      <td>2.999942e+05</td>\n",
       "      <td>1720.529915</td>\n",
       "      <td>1.055118e+06</td>\n",
       "      <td>NaN</td>\n",
       "    </tr>\n",
       "    <tr>\n",
       "      <th>1890</th>\n",
       "      <td>20200502</td>\n",
       "      <td>117054</td>\n",
       "      <td>117054</td>\n",
       "      <td>117054</td>\n",
       "      <td>117054</td>\n",
       "      <td>3441481.0</td>\n",
       "      <td>1199358.0</td>\n",
       "      <td>566573.0</td>\n",
       "      <td>4074266.0</td>\n",
       "      <td>942.0</td>\n",
       "      <td>...</td>\n",
       "      <td>0.052465</td>\n",
       "      <td>0</td>\n",
       "      <td>1</td>\n",
       "      <td>9281678.0</td>\n",
       "      <td>14.248247</td>\n",
       "      <td>3653.376858</td>\n",
       "      <td>1.998930e+05</td>\n",
       "      <td>2248.305556</td>\n",
       "      <td>1.018566e+06</td>\n",
       "      <td>NaN</td>\n",
       "    </tr>\n",
       "    <tr>\n",
       "      <th>1891</th>\n",
       "      <td>20200503</td>\n",
       "      <td>122906</td>\n",
       "      <td>122906</td>\n",
       "      <td>122906</td>\n",
       "      <td>122906</td>\n",
       "      <td>2425503.0</td>\n",
       "      <td>748932.0</td>\n",
       "      <td>702690.0</td>\n",
       "      <td>2471745.0</td>\n",
       "      <td>1111.0</td>\n",
       "      <td>...</td>\n",
       "      <td>0.052271</td>\n",
       "      <td>0</td>\n",
       "      <td>1</td>\n",
       "      <td>6348870.0</td>\n",
       "      <td>13.838733</td>\n",
       "      <td>2183.171017</td>\n",
       "      <td>8.321467e+04</td>\n",
       "      <td>2303.901639</td>\n",
       "      <td>2.247041e+05</td>\n",
       "      <td>NaN</td>\n",
       "    </tr>\n",
       "  </tbody>\n",
       "</table>\n",
       "<p>1892 rows × 60 columns</p>\n",
       "</div>"
      ],
      "text/plain": [
       "          Date  Open_x  High_x   Low_x  Close_x  v_i_buy_x  v_n_buy_x  \\\n",
       "0     20110806   12500   12501   12300    12500     3907.0  2408466.0   \n",
       "1     20110807   12500   12501   12500    12500      200.0  1828241.0   \n",
       "2     20110808   12500   12533   12500    12500    52000.0  1243899.0   \n",
       "3     20110809   12500   12500   12102    12490     5094.0  4161382.0   \n",
       "4     20110810   12489   12498   12300    12350     6590.0   325571.0   \n",
       "...        ...     ...     ...     ...      ...        ...        ...   \n",
       "1887  20200427   98000  103391   97545   103391  1840841.0   719000.0   \n",
       "1888  20200428  106990  107117  103000   107117  1617222.0   341736.0   \n",
       "1889  20200429  111480  111480  111480   111480  3024413.0  1799965.0   \n",
       "1890  20200502  117054  117054  117054   117054  3441481.0  1199358.0   \n",
       "1891  20200503  122906  122906  122906   122906  2425503.0   748932.0   \n",
       "\n",
       "      v_i_sell_x  v_n_sell_x  n_i_buy_x  ...    return  target  RSI_Signal  \\\n",
       "0      2136072.0    276301.0        7.0  ... -0.000222       0           0   \n",
       "1       927606.0    900835.0        1.0  ...  0.000000       0           0   \n",
       "2       795899.0    500000.0        2.0  ...  0.000000       0           0   \n",
       "3       476197.0   3690279.0        5.0  ... -0.002225       0           0   \n",
       "4       332161.0         0.0        3.0  ... -0.031677       0          -1   \n",
       "...          ...         ...        ...  ...       ...     ...         ...   \n",
       "1887   1976595.0    583246.0      953.0  ...  0.058175       0           1   \n",
       "1888   1267708.0    691250.0     1179.0  ...  0.038317       0           1   \n",
       "1889    603906.0   4220472.0      778.0  ...  0.043077       0           1   \n",
       "1890    566573.0   4074266.0      942.0  ...  0.052465       0           1   \n",
       "1891    702690.0   2471745.0     1111.0  ...  0.052271       0           1   \n",
       "\n",
       "         volume        f18           f33           f34           f35  \\\n",
       "0     4824746.0  13.648209    558.142857  4.816932e+05  10680.360000   \n",
       "1     3656882.0  13.764563    200.000000  1.828241e+06   4294.472222   \n",
       "2     2591798.0  13.773074  26000.000000  1.243899e+06   6920.860870   \n",
       "3     8332952.0  13.768525   1018.800000  1.387127e+06   9718.306122   \n",
       "4      664322.0  13.746789   2196.666667  1.627855e+05   9226.694444   \n",
       "...         ...        ...           ...           ...           ...   \n",
       "1887  5119682.0  14.554838   1931.627492  2.396667e+05   2193.779134   \n",
       "1888  3917916.0  14.478225   1371.689567  5.695600e+04   1821.419540   \n",
       "1889  9648756.0  14.354453   3887.420308  2.999942e+05   1720.529915   \n",
       "1890  9281678.0  14.248247   3653.376858  1.998930e+05   2248.305556   \n",
       "1891  6348870.0  13.838733   2183.171017  8.321467e+04   2303.901639   \n",
       "\n",
       "               f36  f20  \n",
       "0     4.605017e+04  NaN  \n",
       "1     1.501392e+05  NaN  \n",
       "2     1.666667e+05  NaN  \n",
       "3     1.230093e+06  NaN  \n",
       "4              NaN  NaN  \n",
       "...            ...  ...  \n",
       "1887  1.166492e+05  NaN  \n",
       "1888  8.640625e+04  NaN  \n",
       "1889  1.055118e+06  NaN  \n",
       "1890  1.018566e+06  NaN  \n",
       "1891  2.247041e+05  NaN  \n",
       "\n",
       "[1892 rows x 60 columns]"
      ]
     },
     "execution_count": 11,
     "metadata": {},
     "output_type": "execute_result"
    }
   ],
   "source": [
    "train1"
   ]
  },
  {
   "cell_type": "code",
   "execution_count": 12,
   "id": "5c2e265e",
   "metadata": {
    "ExecuteTime": {
     "end_time": "2023-11-16T06:27:20.230564Z",
     "start_time": "2023-11-16T06:27:20.217347Z"
    }
   },
   "outputs": [],
   "source": [
    "a = train1[['Date','Close_x','ATR', 'ADX','RSI', 'RSI_Signal', 'Close_EMA_10', 'EMA_10_EMA_30', 'MACD_Signal_MACD','f18', 'f33', 'f34', 'f35', 'f36','target1']]\n",
    "a = a.dropna()\n",
    "x_train = a[['Date','Close_x','ATR', 'ADX','RSI', 'RSI_Signal', 'Close_EMA_10', 'EMA_10_EMA_30', 'MACD_Signal_MACD','f18', 'f33', 'f34', 'f35', 'f36']]\n",
    "y_train = a['target1']"
   ]
  },
  {
   "cell_type": "code",
   "execution_count": 13,
   "id": "f10c359f",
   "metadata": {
    "ExecuteTime": {
     "end_time": "2023-11-16T06:27:20.341053Z",
     "start_time": "2023-11-16T06:27:20.326810Z"
    }
   },
   "outputs": [
    {
     "name": "stderr",
     "output_type": "stream",
     "text": [
      "C:\\Users\\Sharif\\AppData\\Local\\Temp\\ipykernel_10864\\2201074319.py:2: SettingWithCopyWarning: \n",
      "A value is trying to be set on a copy of a slice from a DataFrame.\n",
      "Try using .loc[row_indexer,col_indexer] = value instead\n",
      "\n",
      "See the caveats in the documentation: https://pandas.pydata.org/pandas-docs/stable/user_guide/indexing.html#returning-a-view-versus-a-copy\n",
      "  valid1['Close_Pred']=Predict_price_valid.Close_pred.tolist()\n",
      "C:\\Users\\Sharif\\AppData\\Local\\Temp\\ipykernel_10864\\2201074319.py:4: SettingWithCopyWarning: \n",
      "A value is trying to be set on a copy of a slice from a DataFrame.\n",
      "Try using .loc[row_indexer,col_indexer] = value instead\n",
      "\n",
      "See the caveats in the documentation: https://pandas.pydata.org/pandas-docs/stable/user_guide/indexing.html#returning-a-view-versus-a-copy\n",
      "  valid1['return1'] = np.log(valid1['Close_Pred'].shift(-10)/valid1['Close_Pred'])\n",
      "C:\\Users\\Sharif\\AppData\\Local\\Temp\\ipykernel_10864\\2201074319.py:5: SettingWithCopyWarning: \n",
      "A value is trying to be set on a copy of a slice from a DataFrame.\n",
      "Try using .loc[row_indexer,col_indexer] = value instead\n",
      "\n",
      "See the caveats in the documentation: https://pandas.pydata.org/pandas-docs/stable/user_guide/indexing.html#returning-a-view-versus-a-copy\n",
      "  valid1['target1'] = np.where((valid1['return1'] < -0.02) , 1, np.where(valid1['return1'] >  0.03, -1, 0))\n"
     ]
    }
   ],
   "source": [
    "valid1 = validation[15:]\n",
    "valid1['Close_Pred']=Predict_price_valid.Close_pred.tolist()\n",
    "\n",
    "valid1['return1'] = np.log(valid1['Close_Pred'].shift(-10)/valid1['Close_Pred'])\n",
    "valid1['target1'] = np.where((valid1['return1'] < -0.02) , 1, np.where(valid1['return1'] >  0.03, -1, 0))\n",
    "\n",
    "valid1 = valid1.merge(df, left_on='Date', right_on='Date')"
   ]
  },
  {
   "cell_type": "code",
   "execution_count": 14,
   "id": "f716c33a",
   "metadata": {
    "ExecuteTime": {
     "end_time": "2023-11-16T06:27:20.468037Z",
     "start_time": "2023-11-16T06:27:20.453121Z"
    }
   },
   "outputs": [],
   "source": [
    "b = valid1[['Date','Close_x','ATR', 'ADX','RSI', 'RSI_Signal', 'Close_EMA_10', 'EMA_10_EMA_30', 'MACD_Signal_MACD','f18', 'f33', 'f34', 'f35', 'f36','target1']]\n",
    "b = b.dropna()\n",
    "x_valid = b[['Date','Close_x','ATR', 'ADX','RSI', 'RSI_Signal', 'Close_EMA_10', 'EMA_10_EMA_30', 'MACD_Signal_MACD','f18', 'f33', 'f34', 'f35', 'f36']]\n",
    "y_valid = b['target1']"
   ]
  },
  {
   "cell_type": "code",
   "execution_count": 15,
   "id": "6d99f938",
   "metadata": {
    "ExecuteTime": {
     "end_time": "2023-11-16T06:27:20.594823Z",
     "start_time": "2023-11-16T06:27:20.580648Z"
    }
   },
   "outputs": [],
   "source": [
    "def model_selection(X1,Y):\n",
    "    seed = 7\n",
    "    models = []\n",
    "    models.append(('LogisticRegression', LogisticRegression(random_state=seed)))\n",
    "    models.append(('LDA', LinearDiscriminantAnalysis()))\n",
    "    models.append(('KNeighborsClassifier', KNeighborsClassifier()))\n",
    "    models.append(('DecisionTreeClassifier', DecisionTreeClassifier()))\n",
    "    models.append(('GaussianNB', GaussianNB()))\n",
    "    models.append(('RandomForestClassifier', RandomForestClassifier()))\n",
    "    models.append(('ExtraTreesClassifier',ExtraTreesClassifier(random_state=seed)))\n",
    "    models.append(('AdaBoostClassifier',AdaBoostClassifier(DecisionTreeClassifier(random_state=seed),random_state=seed,learning_rate=0.01)))\n",
    "    models.append(('SVM',svm.SVC(random_state=seed)))\n",
    "    models.append(('GradientBoostingClassifier',GradientBoostingClassifier(random_state=seed)))\n",
    "    models.append(('MLPClassifier',MLPClassifier(random_state=seed)))\n",
    "    # evaluate each model in turn\n",
    "    results = []\n",
    "    names = []\n",
    "    output = pd.DataFrame() \n",
    "    output = X1.reset_index(drop=True)\n",
    "    output['Target'] = Y.reset_index(drop=True)\n",
    "    output1 = pd.DataFrame() \n",
    "    output1 = x_valid.reset_index(drop=True)\n",
    "    output1['Target'] = y_valid.reset_index(drop=True)\n",
    "    #output2 = pd.DataFrame() \n",
    "   # output2 = x_test.reset_index(drop=True)\n",
    "    #output2['Target'] = y_test.reset_index(drop=True)\n",
    "    scoring = 'accuracy'\n",
    "    scores = []\n",
    "    for name, model in models:\n",
    "        kfold = KFold(n_splits=10, shuffle=True, random_state=seed) \n",
    "        cv_results = cross_val_score(model, X1, Y, cv=kfold, scoring=scoring)\n",
    "        results.append(cv_results)\n",
    "        names.append(name)\n",
    "        model = model.fit(X1,Y)\n",
    "        output[name] = model.predict(X1)\n",
    "        msg = \"%s: %f (%f)\" % (name, cv_results.mean(), cv_results.std())\n",
    "        print(msg)\n",
    "        score = model.score(x_valid, y_valid)\n",
    "        scores.append(score)\n",
    "        output1[name] = model.predict(x_valid) \n",
    "       # output2[name] = model.predict(x_test)\n",
    "        msg1 = \"%s: %f\" % (name, score)\n",
    "        print(msg1)\n",
    "    return results, names, output, scores, output1 "
   ]
  },
  {
   "cell_type": "code",
   "execution_count": 16,
   "id": "63f50b4f",
   "metadata": {
    "ExecuteTime": {
     "end_time": "2023-11-16T06:28:58.075611Z",
     "start_time": "2023-11-16T06:27:20.705911Z"
    }
   },
   "outputs": [
    {
     "name": "stderr",
     "output_type": "stream",
     "text": [
      "C:\\Users\\Sharif\\anaconda3\\envs\\notebook\\lib\\site-packages\\sklearn\\linear_model\\_logistic.py:460: ConvergenceWarning: lbfgs failed to converge (status=1):\n",
      "STOP: TOTAL NO. of ITERATIONS REACHED LIMIT.\n",
      "\n",
      "Increase the number of iterations (max_iter) or scale the data as shown in:\n",
      "    https://scikit-learn.org/stable/modules/preprocessing.html\n",
      "Please also refer to the documentation for alternative solver options:\n",
      "    https://scikit-learn.org/stable/modules/linear_model.html#logistic-regression\n",
      "  n_iter_i = _check_optimize_result(\n",
      "C:\\Users\\Sharif\\anaconda3\\envs\\notebook\\lib\\site-packages\\sklearn\\linear_model\\_logistic.py:460: ConvergenceWarning: lbfgs failed to converge (status=1):\n",
      "STOP: TOTAL NO. of ITERATIONS REACHED LIMIT.\n",
      "\n",
      "Increase the number of iterations (max_iter) or scale the data as shown in:\n",
      "    https://scikit-learn.org/stable/modules/preprocessing.html\n",
      "Please also refer to the documentation for alternative solver options:\n",
      "    https://scikit-learn.org/stable/modules/linear_model.html#logistic-regression\n",
      "  n_iter_i = _check_optimize_result(\n",
      "C:\\Users\\Sharif\\anaconda3\\envs\\notebook\\lib\\site-packages\\sklearn\\linear_model\\_logistic.py:460: ConvergenceWarning: lbfgs failed to converge (status=1):\n",
      "STOP: TOTAL NO. of ITERATIONS REACHED LIMIT.\n",
      "\n",
      "Increase the number of iterations (max_iter) or scale the data as shown in:\n",
      "    https://scikit-learn.org/stable/modules/preprocessing.html\n",
      "Please also refer to the documentation for alternative solver options:\n",
      "    https://scikit-learn.org/stable/modules/linear_model.html#logistic-regression\n",
      "  n_iter_i = _check_optimize_result(\n",
      "C:\\Users\\Sharif\\anaconda3\\envs\\notebook\\lib\\site-packages\\sklearn\\linear_model\\_logistic.py:460: ConvergenceWarning: lbfgs failed to converge (status=1):\n",
      "STOP: TOTAL NO. of ITERATIONS REACHED LIMIT.\n",
      "\n",
      "Increase the number of iterations (max_iter) or scale the data as shown in:\n",
      "    https://scikit-learn.org/stable/modules/preprocessing.html\n",
      "Please also refer to the documentation for alternative solver options:\n",
      "    https://scikit-learn.org/stable/modules/linear_model.html#logistic-regression\n",
      "  n_iter_i = _check_optimize_result(\n",
      "C:\\Users\\Sharif\\anaconda3\\envs\\notebook\\lib\\site-packages\\sklearn\\linear_model\\_logistic.py:460: ConvergenceWarning: lbfgs failed to converge (status=1):\n",
      "STOP: TOTAL NO. of ITERATIONS REACHED LIMIT.\n",
      "\n",
      "Increase the number of iterations (max_iter) or scale the data as shown in:\n",
      "    https://scikit-learn.org/stable/modules/preprocessing.html\n",
      "Please also refer to the documentation for alternative solver options:\n",
      "    https://scikit-learn.org/stable/modules/linear_model.html#logistic-regression\n",
      "  n_iter_i = _check_optimize_result(\n",
      "C:\\Users\\Sharif\\anaconda3\\envs\\notebook\\lib\\site-packages\\sklearn\\linear_model\\_logistic.py:460: ConvergenceWarning: lbfgs failed to converge (status=1):\n",
      "STOP: TOTAL NO. of ITERATIONS REACHED LIMIT.\n",
      "\n",
      "Increase the number of iterations (max_iter) or scale the data as shown in:\n",
      "    https://scikit-learn.org/stable/modules/preprocessing.html\n",
      "Please also refer to the documentation for alternative solver options:\n",
      "    https://scikit-learn.org/stable/modules/linear_model.html#logistic-regression\n",
      "  n_iter_i = _check_optimize_result(\n",
      "C:\\Users\\Sharif\\anaconda3\\envs\\notebook\\lib\\site-packages\\sklearn\\linear_model\\_logistic.py:460: ConvergenceWarning: lbfgs failed to converge (status=1):\n",
      "STOP: TOTAL NO. of ITERATIONS REACHED LIMIT.\n",
      "\n",
      "Increase the number of iterations (max_iter) or scale the data as shown in:\n",
      "    https://scikit-learn.org/stable/modules/preprocessing.html\n",
      "Please also refer to the documentation for alternative solver options:\n",
      "    https://scikit-learn.org/stable/modules/linear_model.html#logistic-regression\n",
      "  n_iter_i = _check_optimize_result(\n",
      "C:\\Users\\Sharif\\anaconda3\\envs\\notebook\\lib\\site-packages\\sklearn\\linear_model\\_logistic.py:460: ConvergenceWarning: lbfgs failed to converge (status=1):\n",
      "STOP: TOTAL NO. of ITERATIONS REACHED LIMIT.\n",
      "\n",
      "Increase the number of iterations (max_iter) or scale the data as shown in:\n",
      "    https://scikit-learn.org/stable/modules/preprocessing.html\n",
      "Please also refer to the documentation for alternative solver options:\n",
      "    https://scikit-learn.org/stable/modules/linear_model.html#logistic-regression\n",
      "  n_iter_i = _check_optimize_result(\n",
      "C:\\Users\\Sharif\\anaconda3\\envs\\notebook\\lib\\site-packages\\sklearn\\linear_model\\_logistic.py:460: ConvergenceWarning: lbfgs failed to converge (status=1):\n",
      "STOP: TOTAL NO. of ITERATIONS REACHED LIMIT.\n",
      "\n",
      "Increase the number of iterations (max_iter) or scale the data as shown in:\n",
      "    https://scikit-learn.org/stable/modules/preprocessing.html\n",
      "Please also refer to the documentation for alternative solver options:\n",
      "    https://scikit-learn.org/stable/modules/linear_model.html#logistic-regression\n",
      "  n_iter_i = _check_optimize_result(\n",
      "C:\\Users\\Sharif\\anaconda3\\envs\\notebook\\lib\\site-packages\\sklearn\\linear_model\\_logistic.py:460: ConvergenceWarning: lbfgs failed to converge (status=1):\n",
      "STOP: TOTAL NO. of ITERATIONS REACHED LIMIT.\n",
      "\n",
      "Increase the number of iterations (max_iter) or scale the data as shown in:\n",
      "    https://scikit-learn.org/stable/modules/preprocessing.html\n",
      "Please also refer to the documentation for alternative solver options:\n",
      "    https://scikit-learn.org/stable/modules/linear_model.html#logistic-regression\n",
      "  n_iter_i = _check_optimize_result(\n",
      "C:\\Users\\Sharif\\anaconda3\\envs\\notebook\\lib\\site-packages\\sklearn\\linear_model\\_logistic.py:460: ConvergenceWarning: lbfgs failed to converge (status=1):\n",
      "STOP: TOTAL NO. of ITERATIONS REACHED LIMIT.\n",
      "\n",
      "Increase the number of iterations (max_iter) or scale the data as shown in:\n",
      "    https://scikit-learn.org/stable/modules/preprocessing.html\n",
      "Please also refer to the documentation for alternative solver options:\n",
      "    https://scikit-learn.org/stable/modules/linear_model.html#logistic-regression\n",
      "  n_iter_i = _check_optimize_result(\n"
     ]
    },
    {
     "name": "stdout",
     "output_type": "stream",
     "text": [
      "LogisticRegression: 0.424311 (0.035597)\n",
      "LogisticRegression: 0.364723\n",
      "LDA: 0.509061 (0.041226)\n",
      "LDA: 0.424514\n",
      "KNeighborsClassifier: 0.425000 (0.053143)\n",
      "KNeighborsClassifier: 0.281016\n",
      "DecisionTreeClassifier: 0.640803 (0.030270)\n",
      "DecisionTreeClassifier: 0.236173\n",
      "GaussianNB: 0.434510 (0.045864)\n",
      "GaussianNB: 0.264574\n",
      "RandomForestClassifier: 0.701206 (0.027756)\n",
      "RandomForestClassifier: 0.351271\n",
      "ExtraTreesClassifier: 0.727030 (0.023328)\n",
      "ExtraTreesClassifier: 0.403587\n",
      "AdaBoostClassifier: 0.634529 (0.027823)\n",
      "AdaBoostClassifier: 0.234679\n",
      "SVM: 0.420405 (0.037816)\n",
      "SVM: 0.366218\n",
      "GradientBoostingClassifier: 0.665145 (0.028077)\n",
      "GradientBoostingClassifier: 0.218236\n",
      "MLPClassifier: 0.394660 (0.061163)\n",
      "MLPClassifier: 0.194320\n"
     ]
    }
   ],
   "source": [
    "results, names, output, scores ,output1  = model_selection(x_train,y_train)"
   ]
  },
  {
   "cell_type": "code",
   "execution_count": 17,
   "id": "cbb8e153",
   "metadata": {
    "ExecuteTime": {
     "end_time": "2023-11-16T06:28:58.862821Z",
     "start_time": "2023-11-16T06:28:58.425472Z"
    }
   },
   "outputs": [
    {
     "data": {
      "image/png": "[encoded data removed]",
      "text/plain": [
       "<Figure size 432x288 with 1 Axes>"
      ]
     },
     "metadata": {
      "needs_background": "light"
     },
     "output_type": "display_data"
    }
   ],
   "source": [
    "def plot_models(results, names):\n",
    "    fig = plt.figure()\n",
    "    fig.suptitle('Algorithm Comparison')\n",
    "    ax = fig.add_subplot(111)\n",
    "    plt.boxplot(results)\n",
    "    ax.set_xticklabels(names)\n",
    "    plt.show()\n",
    "plot_models(results, names)"
   ]
  },
  {
   "cell_type": "code",
   "execution_count": 18,
   "id": "bfe80ba1",
   "metadata": {
    "ExecuteTime": {
     "end_time": "2023-11-16T06:28:59.476491Z",
     "start_time": "2023-11-16T06:28:59.057657Z"
    }
   },
   "outputs": [
    {
     "data": {
      "image/png": "[encoded data removed]",
      "text/plain": [
       "<Figure size 720x360 with 1 Axes>"
      ]
     },
     "metadata": {
      "needs_background": "light"
     },
     "output_type": "display_data"
    }
   ],
   "source": [
    "means = np.array(results).mean(axis=1)\n",
    "fig = plt.figure(figsize=(10, 5))\n",
    "# creating the bar plot\n",
    "plt.barh(names,means)\n",
    "plt.xlabel(\"Mean Accuracy\")\n",
    "plt.ylabel(\"Algorithm\")\n",
    "plt.title(\"CV Score\")\n",
    "plt.show()\n"
   ]
  },
  {
   "cell_type": "code",
   "execution_count": 19,
   "id": "8c4494e9",
   "metadata": {
    "ExecuteTime": {
     "end_time": "2023-11-16T06:29:00.130333Z",
     "start_time": "2023-11-16T06:28:59.714366Z"
    }
   },
   "outputs": [
    {
     "data": {
      "image/png": "[encoded data removed]",
      "text/plain": [
       "<Figure size 720x360 with 1 Axes>"
      ]
     },
     "metadata": {
      "needs_background": "light"
     },
     "output_type": "display_data"
    }
   ],
   "source": [
    "fig = plt.figure(figsize=(10, 5))\n",
    "# creating the bar plot\n",
    "plt.barh(names,scores,color='r')\n",
    "plt.xlabel(\"Scores\")\n",
    "plt.ylabel(\"Algorithm\")\n",
    "plt.title(\"Test Score\")\n",
    "plt.show()"
   ]
  },
  {
   "cell_type": "code",
   "execution_count": 20,
   "id": "1c3d3bf5",
   "metadata": {
    "ExecuteTime": {
     "end_time": "2023-11-16T06:29:02.442949Z",
     "start_time": "2023-11-16T06:29:00.323345Z"
    }
   },
   "outputs": [
    {
     "name": "stdout",
     "output_type": "stream",
     "text": [
      "LDA profit: 4.3768 \n",
      "win_rate: 0.4732\n",
      "KNN profit: 10.2215 \n",
      "win_rate: 0.5828\n",
      "Dtree profit: 1197.5912 \n",
      "win_rate: 0.9333\n",
      "GausianNB profit: 1.0524 \n",
      "win_rate: 0.4747\n",
      "RF profit: 1197.5912 \n",
      "win_rate: 0.9333\n",
      "Etree profit: 1197.5912 \n",
      "win_rate: 0.9333\n",
      "AdaBoot profit: 1197.5912 \n",
      "win_rate: 0.9333\n",
      "GBooting profit: 443.588 \n",
      "win_rate: 0.7627\n"
     ]
    }
   ],
   "source": [
    "#LogisticRegression \tLMz6XaxP7FaH5uUuJbRyeEuQ2XGadC84Cu \tKNeighborsClassifier \tDecisionTreeClassifier \tGaussianNB \tRandomForestClassifier \tExtraTreesClassifier \tAdaBoostClassifier \tSVM \tGradientBoostingClassifier \tMLPClassifier\n",
    "out_puts=output.copy()\n",
    "\n",
    "datas={\n",
    "    \"signal\":out_puts.LDA.tolist(),\n",
    "    \"close\":out_puts.Close_x.tolist() \n",
    "}\n",
    "sample_eval_LDA=pd.DataFrame(datas)\n",
    "a=0\n",
    "for i in range(len(sample_eval_LDA)):\n",
    "    if a == 1 and sample_eval_LDA.signal[i] == 1 or a == -1 and sample_eval_LDA.signal[i] == -1:\n",
    "        sample_eval_LDA.signal[i] = 0\n",
    "    elif a == -1 and sample_eval_LDA.signal[i] == 1 or a == 1 and sample_eval_LDA.signal[i] == -1:\n",
    "        a = sample_eval_LDA.signal[i]\n",
    "    elif a == 0 and sample_eval_LDA.signal[i] == -1:\n",
    "        a = sample_eval_LDA.signal[i]\n",
    "    elif a == 0 and sample_eval_LDA.signal[i] == 1:       \n",
    "        sample_eval_LDA.signal[i] = 0\n",
    "profit, win_rate = eval_strategy(sample_eval_LDA)\n",
    "print(\"LDA\",\"profit:\", profit,\"\\nwin_rate:\", win_rate)\n",
    "\n",
    "datas={\n",
    "    \"signal\":out_puts.KNeighborsClassifier.tolist(),\n",
    "    \"close\":out_puts.Close_x.tolist() \n",
    "}\n",
    "sample_eval_KNN=pd.DataFrame(datas)\n",
    "a=0\n",
    "for i in range(len(sample_eval_KNN)):\n",
    "    if a == 1 and sample_eval_KNN.signal[i] == 1 or a == -1 and sample_eval_KNN.signal[i] == -1:\n",
    "        sample_eval_KNN.signal[i] = 0\n",
    "    elif a == -1 and sample_eval_KNN.signal[i] == 1 or a == 1 and sample_eval_KNN.signal[i] == -1:\n",
    "        a = sample_eval_KNN.signal[i]\n",
    "    elif a == 0 and sample_eval_KNN.signal[i] == -1:\n",
    "        a = sample_eval_KNN.signal[i]\n",
    "    elif a == 0 and sample_eval_KNN.signal[i] == 1:       \n",
    "        sample_eval_KNN.signal[i] = 0\n",
    "profit, win_rate = eval_strategy(sample_eval_KNN)\n",
    "print(\"KNN\",\"profit:\", profit,\"\\nwin_rate:\", win_rate)\n",
    "\n",
    "datas={\n",
    "    \"signal\":out_puts.DecisionTreeClassifier.tolist(),\n",
    "    \"close\":out_puts.Close_x.tolist() \n",
    "}\n",
    "sample_eval_Dtree=pd.DataFrame(datas)\n",
    "a=0\n",
    "for i in range(len(sample_eval_Dtree)):\n",
    "    if a == 1 and sample_eval_Dtree.signal[i] == 1 or a == -1 and sample_eval_Dtree.signal[i] == -1:\n",
    "        sample_eval_Dtree.signal[i] = 0\n",
    "    elif a == -1 and sample_eval_Dtree.signal[i] == 1 or a == 1 and sample_eval_Dtree.signal[i] == -1:\n",
    "        a = sample_eval_Dtree.signal[i]\n",
    "    elif a == 0 and sample_eval_Dtree.signal[i] == -1:\n",
    "        a = sample_eval_Dtree.signal[i]\n",
    "    elif a == 0 and sample_eval_Dtree.signal[i] == 1:       \n",
    "        sample_eval_Dtree.signal[i] = 0\n",
    "profit, win_rate = eval_strategy(sample_eval_Dtree)\n",
    "print(\"Dtree\",\"profit:\", profit,\"\\nwin_rate:\", win_rate)\n",
    "\n",
    "datas={\n",
    "    \"signal\":out_puts.GaussianNB.tolist(),\n",
    "    \"close\":out_puts.Close_x.tolist() \n",
    "}\n",
    "sample_eval_GausianNB=pd.DataFrame(datas)\n",
    "a=0\n",
    "for i in range(len(sample_eval_GausianNB)):\n",
    "    if a == 1 and sample_eval_GausianNB.signal[i] == 1 or a == -1 and sample_eval_GausianNB.signal[i] == -1:\n",
    "        sample_eval_GausianNB.signal[i] = 0\n",
    "    elif a == -1 and sample_eval_GausianNB.signal[i] == 1 or a == 1 and sample_eval_GausianNB.signal[i] == -1:\n",
    "        a = sample_eval_GausianNB.signal[i]\n",
    "    elif a == 0 and sample_eval_GausianNB.signal[i] == -1:\n",
    "        a = sample_eval_GausianNB.signal[i]\n",
    "    elif a == 0 and sample_eval_GausianNB.signal[i] == 1:       \n",
    "        sample_eval_GausianNB.signal[i] = 0\n",
    "profit, win_rate = eval_strategy(sample_eval_GausianNB)\n",
    "print(\"GausianNB\",\"profit:\", profit,\"\\nwin_rate:\", win_rate)\n",
    "\n",
    "datas={\n",
    "    \"signal\":out_puts.RandomForestClassifier.tolist(),\n",
    "    \"close\":out_puts.Close_x.tolist() \n",
    "}\n",
    "sample_eval_RF=pd.DataFrame(datas)\n",
    "a=0\n",
    "for i in range(len(sample_eval_RF)):\n",
    "    if a == 1 and sample_eval_RF.signal[i] == 1 or a == -1 and sample_eval_RF.signal[i] == -1:\n",
    "        sample_eval_RF.signal[i] = 0\n",
    "    elif a == -1 and sample_eval_RF.signal[i] == 1 or a == 1 and sample_eval_RF.signal[i] == -1:\n",
    "        a = sample_eval_RF.signal[i]\n",
    "    elif a == 0 and sample_eval_RF.signal[i] == -1:\n",
    "        a = sample_eval_RF.signal[i]\n",
    "    elif a == 0 and sample_eval_RF.signal[i] == 1:       \n",
    "        sample_eval_RF.signal[i] = 0\n",
    "profit, win_rate = eval_strategy(sample_eval_RF)\n",
    "print(\"RF\",\"profit:\", profit,\"\\nwin_rate:\", win_rate)\n",
    "\n",
    "datas={\n",
    "    \"signal\":out_puts.ExtraTreesClassifier.tolist(),\n",
    "    \"close\":out_puts.Close_x.tolist() \n",
    "}\n",
    "sample_eval_Etree=pd.DataFrame(datas)\n",
    "a=0\n",
    "for i in range(len(sample_eval_Etree)):\n",
    "    if a == 1 and sample_eval_Etree.signal[i] == 1 or a == -1 and sample_eval_Etree.signal[i] == -1:\n",
    "        sample_eval_Etree.signal[i] = 0\n",
    "    elif a == -1 and sample_eval_Etree.signal[i] == 1 or a == 1 and sample_eval_Etree.signal[i] == -1:\n",
    "        a = sample_eval_Etree.signal[i]\n",
    "    elif a == 0 and sample_eval_Etree.signal[i] == -1:\n",
    "        a = sample_eval_Etree.signal[i]\n",
    "    elif a == 0 and sample_eval_Etree.signal[i] == 1:       \n",
    "        sample_eval_Etree.signal[i] = 0\n",
    "profit, win_rate = eval_strategy(sample_eval_Etree)\n",
    "print(\"Etree\",\"profit:\", profit,\"\\nwin_rate:\", win_rate)\n",
    "\n",
    "datas={\n",
    "    \"signal\":out_puts.AdaBoostClassifier.tolist(),\n",
    "    \"close\":out_puts.Close_x.tolist() \n",
    "}\n",
    "sample_eval_AdaBoot=pd.DataFrame(datas)\n",
    "a=0\n",
    "for i in range(len(sample_eval_AdaBoot)):\n",
    "    if a == 1 and sample_eval_AdaBoot.signal[i] == 1 or a == -1 and sample_eval_AdaBoot.signal[i] == -1:\n",
    "        sample_eval_AdaBoot.signal[i] = 0\n",
    "    elif a == -1 and sample_eval_AdaBoot.signal[i] == 1 or a == 1 and sample_eval_AdaBoot.signal[i] == -1:\n",
    "        a = sample_eval_AdaBoot.signal[i]\n",
    "    elif a == 0 and sample_eval_AdaBoot.signal[i] == -1:\n",
    "        a = sample_eval_AdaBoot.signal[i]\n",
    "    elif a == 0 and sample_eval_AdaBoot.signal[i] == 1:       \n",
    "        sample_eval_AdaBoot.signal[i] = 0\n",
    "profit, win_rate = eval_strategy(sample_eval_AdaBoot)\n",
    "print(\"AdaBoot\",\"profit:\", profit,\"\\nwin_rate:\", win_rate)\n",
    "\n",
    "datas={\n",
    "    \"signal\":out_puts.GradientBoostingClassifier.tolist(),\n",
    "    \"close\":out_puts.Close_x.tolist(),\n",
    "    \"Date\":out_puts.Date.tolist()\n",
    "}\n",
    "sample_eval_GBooting=pd.DataFrame(datas)\n",
    "a=0\n",
    "for i in range(len(sample_eval_GBooting)):\n",
    "    if a == 1 and sample_eval_GBooting.signal[i] == 1 or a == -1 and sample_eval_GBooting.signal[i] == -1:\n",
    "        sample_eval_GBooting.signal[i] = 0\n",
    "    elif a == -1 and sample_eval_GBooting.signal[i] == 1 or a == 1 and sample_eval_GBooting.signal[i] == -1:\n",
    "        a = sample_eval_GBooting.signal[i]\n",
    "    elif a == 0 and sample_eval_GBooting.signal[i] == -1:\n",
    "        a = sample_eval_GBooting.signal[i]\n",
    "    elif a == 0 and sample_eval_GBooting.signal[i] == 1:       \n",
    "        sample_eval_GBooting.signal[i] = 0\n",
    "profit, win_rate = eval_strategy(sample_eval_GBooting)\n",
    "print(\"GBooting\",\"profit:\", profit,\"\\nwin_rate:\", win_rate)"
   ]
  },
  {
   "cell_type": "code",
   "execution_count": 22,
   "id": "9587e317",
   "metadata": {
    "ExecuteTime": {
     "end_time": "2023-11-16T06:41:37.533166Z",
     "start_time": "2023-11-16T06:34:17.015378Z"
    }
   },
   "outputs": [
    {
     "name": "stdout",
     "output_type": "stream",
     "text": [
      "WARNING: this type of plot wants 5 columns/args, but you've only supplied 4\n",
      " - Assuming time column is missing and using index instead.\n"
     ]
    }
   ],
   "source": [
    "import finplot as fplt\n",
    "\n",
    "# CREATE A TICKER INSTANCE FOR TESLA\n",
    "#Rasad = yf.Ticker('TSLA')\n",
    "\n",
    "# RETRIEVE 1 YEAR WORTH OF DAILY DATA OF TESLA\n",
    "#df = Rasad.history(interval='1d',period='1y')\n",
    "\n",
    "# PLOT THE OHLC CANDLE CHART\n",
    "aa=train1[['Open_x','Close_x','High_x','Low_x','Date']]\n",
    "ab=sample_eval_GBooting\n",
    "aa=ab.merge(aa, left_on='Date', right_on='Date')\n",
    "\n",
    "fplt.candlestick_ochl(aa[['Open_x','Close_x','High_x','Low_x']])\n",
    "#train1['AdaBoostClassifier']=sample_eval_AdaBoot['signal']\n",
    "lo_wicks=sample_eval_GBooting['signal']\n",
    "aa.loc[(lo_wicks==1),'marker'] = aa['Close_x']\n",
    "fplt.plot(aa.index, aa['marker'],color='navy', style='^', legend='dumb mark', markersize=10)\n",
    "aa.loc[(lo_wicks==-1),'marker1'] = aa['Close_x']\n",
    "fplt.plot(aa.index, aa['marker1'],color='lawngreen', style='v', legend='dumb mark', markersize=10)\n",
    "\n",
    "#fplt.plot(a , color='black', legend='Log price')\n",
    "fplt.show()"
   ]
  },
  {
   "cell_type": "code",
   "execution_count": 23,
   "id": "86a6e3bb",
   "metadata": {
    "ExecuteTime": {
     "end_time": "2023-11-15T15:01:30.210605Z",
     "start_time": "2023-11-15T15:01:29.771609Z"
    }
   },
   "outputs": [
    {
     "name": "stdout",
     "output_type": "stream",
     "text": [
      "LDA profit: 1.5572 \n",
      "win_rate: 0.625\n",
      "KNN profit: 0.8828 \n",
      "win_rate: 0.6111\n",
      "Dtree profit: 0.2332 \n",
      "win_rate: 0.5\n",
      "GausianNB profit: 0.813 \n",
      "win_rate: 0.5\n",
      "RF profit: 0.4273 \n",
      "win_rate: 0.4\n",
      "Etree profit: 0.82 \n",
      "win_rate: 0.3947\n",
      "AdaBoot profit: 0.1271 \n",
      "win_rate: 0.4839\n",
      "GBooting profit: 1.9654 \n",
      "win_rate: 0.8\n"
     ]
    }
   ],
   "source": [
    "out_puts1=output1.copy()\n",
    "\n",
    "#LogisticRegression \tLMz6XaxP7FaH5uUuJbRyeEuQ2XGadC84Cu \tKNeighborsClassifier \tDecisionTreeClassifier \tGaussianNB \tRandomForestClassifier \tExtraTreesClassifier \tAdaBoostClassifier \tSVM \tGradientBoostingClassifier \tMLPClassifier\n",
    "\n",
    "\n",
    "datas={\n",
    "    \"signal\":out_puts1.LDA.tolist(),\n",
    "    \"close\":out_puts1.Close_x.tolist() \n",
    "}\n",
    "sample_eval_LDA=pd.DataFrame(datas)\n",
    "a=0\n",
    "for i in range(len(sample_eval_LDA)):\n",
    "    if a == 1 and sample_eval_LDA.signal[i] == 1 or a == -1 and sample_eval_LDA.signal[i] == -1:\n",
    "        sample_eval_LDA.signal[i] = 0\n",
    "    elif a == -1 and sample_eval_LDA.signal[i] == 1 or a == 1 and sample_eval_LDA.signal[i] == -1:\n",
    "        a = sample_eval_LDA.signal[i]\n",
    "    elif a == 0 and sample_eval_LDA.signal[i] == -1:\n",
    "        a = sample_eval_LDA.signal[i]\n",
    "    elif a == 0 and sample_eval_LDA.signal[i] == 1:       \n",
    "        sample_eval_LDA.signal[i] = 0\n",
    "profit, win_rate = eval_strategy(sample_eval_LDA)\n",
    "print(\"LDA\",\"profit:\", profit,\"\\nwin_rate:\", win_rate)\n",
    "\n",
    "datas={\n",
    "    \"signal\":out_puts1.KNeighborsClassifier.tolist(),\n",
    "    \"close\":out_puts1.Close_x.tolist() \n",
    "}\n",
    "sample_eval_KNN=pd.DataFrame(datas)\n",
    "a=0\n",
    "for i in range(len(sample_eval_KNN)):\n",
    "    if a == 1 and sample_eval_KNN.signal[i] == 1 or a == -1 and sample_eval_KNN.signal[i] == -1:\n",
    "        sample_eval_KNN.signal[i] = 0\n",
    "    elif a == -1 and sample_eval_KNN.signal[i] == 1 or a == 1 and sample_eval_KNN.signal[i] == -1:\n",
    "        a = sample_eval_KNN.signal[i]\n",
    "    elif a == 0 and sample_eval_KNN.signal[i] == -1:\n",
    "        a = sample_eval_KNN.signal[i]\n",
    "    elif a == 0 and sample_eval_KNN.signal[i] == 1:       \n",
    "        sample_eval_KNN.signal[i] = 0\n",
    "profit, win_rate = eval_strategy(sample_eval_KNN)\n",
    "print(\"KNN\",\"profit:\", profit,\"\\nwin_rate:\", win_rate)\n",
    "\n",
    "datas={\n",
    "    \"signal\":out_puts1.DecisionTreeClassifier.tolist(),\n",
    "    \"close\":out_puts1.Close_x.tolist() \n",
    "}\n",
    "sample_eval_Dtree=pd.DataFrame(datas)\n",
    "a=0\n",
    "for i in range(len(sample_eval_Dtree)):\n",
    "    if a == 1 and sample_eval_Dtree.signal[i] == 1 or a == -1 and sample_eval_Dtree.signal[i] == -1:\n",
    "        sample_eval_Dtree.signal[i] = 0\n",
    "    elif a == -1 and sample_eval_Dtree.signal[i] == 1 or a == 1 and sample_eval_Dtree.signal[i] == -1:\n",
    "        a = sample_eval_Dtree.signal[i]\n",
    "    elif a == 0 and sample_eval_Dtree.signal[i] == -1:\n",
    "        a = sample_eval_Dtree.signal[i]\n",
    "    elif a == 0 and sample_eval_Dtree.signal[i] == 1:       \n",
    "        sample_eval_Dtree.signal[i] = 0\n",
    "profit, win_rate = eval_strategy(sample_eval_Dtree)\n",
    "print(\"Dtree\",\"profit:\", profit,\"\\nwin_rate:\", win_rate)\n",
    "\n",
    "datas={\n",
    "    \"signal\":out_puts1.GaussianNB.tolist(),\n",
    "    \"close\":out_puts1.Close_x.tolist() \n",
    "}\n",
    "sample_eval_GausianNB=pd.DataFrame(datas)\n",
    "a=0\n",
    "for i in range(len(sample_eval_GausianNB)):\n",
    "    if a == 1 and sample_eval_GausianNB.signal[i] == 1 or a == -1 and sample_eval_GausianNB.signal[i] == -1:\n",
    "        sample_eval_GausianNB.signal[i] = 0\n",
    "    elif a == -1 and sample_eval_GausianNB.signal[i] == 1 or a == 1 and sample_eval_GausianNB.signal[i] == -1:\n",
    "        a = sample_eval_GausianNB.signal[i]\n",
    "    elif a == 0 and sample_eval_GausianNB.signal[i] == -1:\n",
    "        a = sample_eval_GausianNB.signal[i]\n",
    "    elif a == 0 and sample_eval_GausianNB.signal[i] == 1:       \n",
    "        sample_eval_GausianNB.signal[i] = 0\n",
    "profit, win_rate = eval_strategy(sample_eval_GausianNB)\n",
    "print(\"GausianNB\",\"profit:\", profit,\"\\nwin_rate:\", win_rate)\n",
    "\n",
    "datas={\n",
    "    \"signal\":out_puts1.RandomForestClassifier.tolist(),\n",
    "    \"close\":out_puts1.Close_x.tolist() \n",
    "}\n",
    "sample_eval_RF=pd.DataFrame(datas)\n",
    "a=0\n",
    "for i in range(len(sample_eval_RF)):\n",
    "    if a == 1 and sample_eval_RF.signal[i] == 1 or a == -1 and sample_eval_RF.signal[i] == -1:\n",
    "        sample_eval_RF.signal[i] = 0\n",
    "    elif a == -1 and sample_eval_RF.signal[i] == 1 or a == 1 and sample_eval_RF.signal[i] == -1:\n",
    "        a = sample_eval_RF.signal[i]\n",
    "    elif a == 0 and sample_eval_RF.signal[i] == -1:\n",
    "        a = sample_eval_RF.signal[i]\n",
    "    elif a == 0 and sample_eval_RF.signal[i] == 1:       \n",
    "        sample_eval_RF.signal[i] = 0\n",
    "profit, win_rate = eval_strategy(sample_eval_RF)\n",
    "print(\"RF\",\"profit:\", profit,\"\\nwin_rate:\", win_rate)\n",
    "\n",
    "datas={\n",
    "    \"signal\":out_puts1.ExtraTreesClassifier.tolist(),\n",
    "    \"close\":out_puts1.Close_x.tolist() \n",
    "}\n",
    "sample_eval_Etree=pd.DataFrame(datas)\n",
    "a=0\n",
    "for i in range(len(sample_eval_Etree)):\n",
    "    if a == 1 and sample_eval_Etree.signal[i] == 1 or a == -1 and sample_eval_Etree.signal[i] == -1:\n",
    "        sample_eval_Etree.signal[i] = 0\n",
    "    elif a == -1 and sample_eval_Etree.signal[i] == 1 or a == 1 and sample_eval_Etree.signal[i] == -1:\n",
    "        a = sample_eval_Etree.signal[i]\n",
    "    elif a == 0 and sample_eval_Etree.signal[i] == -1:\n",
    "        a = sample_eval_Etree.signal[i]\n",
    "    elif a == 0 and sample_eval_Etree.signal[i] == 1:       \n",
    "        sample_eval_Etree.signal[i] = 0\n",
    "profit, win_rate = eval_strategy(sample_eval_Etree)\n",
    "print(\"Etree\",\"profit:\", profit,\"\\nwin_rate:\", win_rate)\n",
    "\n",
    "datas={\n",
    "    \"signal\":out_puts1.AdaBoostClassifier.tolist(),\n",
    "    \"close\":out_puts1.Close_x.tolist() \n",
    "}\n",
    "sample_eval_AdaBoot=pd.DataFrame(datas)\n",
    "a=0\n",
    "for i in range(len(sample_eval_AdaBoot)):\n",
    "    if a == 1 and sample_eval_AdaBoot.signal[i] == 1 or a == -1 and sample_eval_AdaBoot.signal[i] == -1:\n",
    "        sample_eval_AdaBoot.signal[i] = 0\n",
    "    elif a == -1 and sample_eval_AdaBoot.signal[i] == 1 or a == 1 and sample_eval_AdaBoot.signal[i] == -1:\n",
    "        a = sample_eval_AdaBoot.signal[i]\n",
    "    elif a == 0 and sample_eval_AdaBoot.signal[i] == -1:\n",
    "        a = sample_eval_AdaBoot.signal[i]\n",
    "    elif a == 0 and sample_eval_AdaBoot.signal[i] == 1:       \n",
    "        sample_eval_AdaBoot.signal[i] = 0\n",
    "profit, win_rate = eval_strategy(sample_eval_AdaBoot)\n",
    "print(\"AdaBoot\",\"profit:\", profit,\"\\nwin_rate:\", win_rate)\n",
    "\n",
    "datas={\n",
    "    \"signal\":out_puts1.GradientBoostingClassifier.tolist(),\n",
    "    \"close\":out_puts1.Close_x.tolist(),\n",
    "    \"Date\":out_puts1.Date.tolist()\n",
    "    \n",
    "}\n",
    "sample_eval_GBooting=pd.DataFrame(datas)\n",
    "a=0\n",
    "for i in range(len(sample_eval_GBooting)):\n",
    "    if a == 1 and sample_eval_GBooting.signal[i] == 1 or a == -1 and sample_eval_GBooting.signal[i] == -1:\n",
    "        sample_eval_GBooting.signal[i] = 0\n",
    "    elif a == -1 and sample_eval_GBooting.signal[i] == 1 or a == 1 and sample_eval_GBooting.signal[i] == -1:\n",
    "        a = sample_eval_GBooting.signal[i]\n",
    "    elif a == 0 and sample_eval_GBooting.signal[i] == -1:\n",
    "        a = sample_eval_GBooting.signal[i]\n",
    "    elif a == 0 and sample_eval_GBooting.signal[i] == 1:       \n",
    "        sample_eval_GBooting.signal[i] = 0\n",
    "profit, win_rate = eval_strategy(sample_eval_GBooting)\n",
    "print(\"GBooting\",\"profit:\", profit,\"\\nwin_rate:\", win_rate)\n"
   ]
  },
  {
   "cell_type": "code",
   "execution_count": 46,
   "id": "dfbcdb09",
   "metadata": {
    "ExecuteTime": {
     "end_time": "2023-11-15T14:08:24.626971Z",
     "start_time": "2023-11-15T14:08:06.013806Z"
    }
   },
   "outputs": [
    {
     "name": "stdout",
     "output_type": "stream",
     "text": [
      "WARNING: this type of plot wants 5 columns/args, but you've only supplied 4\n",
      " - Assuming time column is missing and using index instead.\n"
     ]
    }
   ],
   "source": [
    "# CREATE A TICKER INSTANCE FOR TESLA\n",
    "#Rasad = yf.Ticker('TSLA')\n",
    "\n",
    "# RETRIEVE 1 YEAR WORTH OF DAILY DATA OF TESLA\n",
    "#df = Rasad.history(interval='1d',period='1y')\n",
    "\n",
    "# PLOT THE OHLC CANDLE CHART\n",
    "aa=valid1[['Open_x','Close_x','High_x','Low_x','Date']]\n",
    "ab=sample_eval_GBooting\n",
    "aa=ab.merge(aa, left_on='Date', right_on='Date')\n",
    "\n",
    "fplt.candlestick_ochl(aa[['Open_x','Close_x','High_x','Low_x']])\n",
    "#train1['AdaBoostClassifier']=sample_eval_AdaBoot['signal']\n",
    "lo_wicks=sample_eval_GBooting['signal']\n",
    "aa.loc[(lo_wicks==1),'marker'] = aa['Close_x']\n",
    "fplt.plot(aa.index, aa['marker'],color='navy', style='^', legend='dumb mark')\n",
    "aa.loc[(lo_wicks==-1),'marker1'] = aa['Close_x']\n",
    "fplt.plot(aa.index, aa['marker1'],color='lawngreen', style='v', legend='dumb mark')\n",
    "\n",
    "#fplt.plot(a , color='black', legend='Log price')\n",
    "fplt.show()"
   ]
  },
  {
   "cell_type": "code",
   "execution_count": 24,
   "id": "e2b9df6f",
   "metadata": {
    "ExecuteTime": {
     "end_time": "2023-11-15T15:01:48.991609Z",
     "start_time": "2023-11-15T15:01:48.968612Z"
    }
   },
   "outputs": [
    {
     "name": "stdout",
     "output_type": "stream",
     "text": [
      "profit: 1.1443 \n",
      "win_rate: 1.0\n"
     ]
    }
   ],
   "source": [
    "L=[-1]\n",
    "for i in range(len(valid1)-2):\n",
    "    L.append(0)\n",
    "L.append(1)\n",
    "\n",
    "datas={\n",
    "    \"signal\":L,\n",
    "    \"close\":valid1.Close_x.tolist() \n",
    "}\n",
    "y1=pd.DataFrame(datas)\n",
    "profit, win_rate = eval_strategy(y1)\n",
    "print(\"profit:\", profit,\"\\nwin_rate:\", win_rate)"
   ]
  },
  {
   "cell_type": "code",
   "execution_count": 25,
   "id": "36c55810",
   "metadata": {
    "ExecuteTime": {
     "end_time": "2023-11-15T15:07:08.718108Z",
     "start_time": "2023-11-15T15:07:08.690112Z"
    }
   },
   "outputs": [
    {
     "name": "stdout",
     "output_type": "stream",
     "text": [
      "profit: 24.2683 \n",
      "win_rate: 0.9474\n"
     ]
    }
   ],
   "source": [
    "datas={\n",
    "    \"signal\":valid1.target1.tolist(),\n",
    "    \"close\":valid1.Close_x.tolist() \n",
    "}\n",
    "y1=pd.DataFrame(datas)\n",
    "profit, win_rate = eval_strategy(y1)\n",
    "print(\"profit:\", profit,\"\\nwin_rate:\", win_rate)"
   ]
  },
  {
   "cell_type": "code",
   "execution_count": null,
   "id": "64378c7d",
   "metadata": {},
   "outputs": [],
   "source": []
  }
 ],
 "metadata": {
  "kernelspec": {
   "display_name": "Python 3 (ipykernel)",
   "language": "python",
   "name": "python3"
  },
  "language_info": {
   "codemirror_mode": {
    "name": "ipython",
    "version": 3
   },
   "file_extension": ".py",
   "mimetype": "text/x-python",
   "name": "python",
   "nbconvert_exporter": "python",
   "pygments_lexer": "ipython3",
   "version": "3.9.12"
  },
  "nbTranslate": {
   "displayLangs": [
    "en"
   ],
   "hotkey": "alt-t",
   "langInMainMenu": true,
   "sourceLang": "en",
   "targetLang": "fr",
   "useGoogleTranslate": true
  },
  "toc": {
   "base_numbering": 1,
   "nav_menu": {},
   "number_sections": true,
   "sideBar": true,
   "skip_h1_title": false,
   "title_cell": "Table of Contents",
   "title_sidebar": "Contents",
   "toc_cell": false,
   "toc_position": {},
   "toc_section_display": true,
   "toc_window_display": false
  },
  "varInspector": {
   "cols": {
    "lenName": 16,
    "lenType": 16,
    "lenVar": 40
   },
   "kernels_config": {
    "python": {
     "delete_cmd_postfix": "",
     "delete_cmd_prefix": "del ",
     "library": "var_list.py",
     "varRefreshCmd": "print(var_dic_list())"
    },
    "r": {
     "delete_cmd_postfix": ") ",
     "delete_cmd_prefix": "rm(",
     "library": "var_list.r",
     "varRefreshCmd": "cat(var_dic_list()) "
    }
   },
   "types_to_exclude": [
    "module",
    "function",
    "builtin_function_or_method",
    "instance",
    "_Feature"
   ],
   "window_display": false
  }
 },
 "nbformat": 4,
 "nbformat_minor": 5
}
