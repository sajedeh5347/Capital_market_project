{
 "cells": [
  {
   "cell_type": "code",
   "execution_count": 39,
   "id": "38a1dbbd",
   "metadata": {
    "ExecuteTime": {
     "end_time": "2023-11-16T07:01:08.323990Z",
     "start_time": "2023-11-16T07:01:08.310877Z"
    }
   },
   "outputs": [],
   "source": [
    "import pandas as pd\n",
    "import numpy as np\n",
    "from matplotlib import pyplot as plt\n",
    "from sklearn.model_selection import TimeSeriesSplit\n",
    "from sklearn.model_selection import RepeatedStratifiedKFold, StratifiedKFold\n",
    "from sklearn.model_selection import KFold\n",
    "from sklearn.model_selection import train_test_split\n",
    "from sklearn.model_selection import cross_val_score\n",
    "from sklearn.pipeline import Pipeline\n",
    "from sklearn.tree import DecisionTreeClassifier\n",
    "from sklearn.metrics import classification_report\n",
    "from sklearn.tree import DecisionTreeRegressor\n",
    "from sklearn.ensemble import RandomForestClassifier\n",
    "from sklearn.ensemble import ExtraTreesClassifier \n",
    "from sklearn.ensemble import AdaBoostClassifier \n",
    "from sklearn.ensemble import GradientBoostingClassifier\n",
    "from sklearn.neighbors import KNeighborsClassifier\n",
    "from sklearn.ensemble import RandomForestRegressor\n",
    "from sklearn.metrics import accuracy_score\n",
    "from sklearn.model_selection import GridSearchCV\n",
    "from sklearn.model_selection import RandomizedSearchCV\n",
    "from sklearn import svm\n",
    "from sklearn.neural_network import MLPClassifier\n",
    "from sklearn.linear_model import LogisticRegression\n",
    "#from sklearn.discriminant_analysis import LMz6XaxP7FaH5uUuJbRyeEuQ2XGadC84Cu\n",
    "from sklearn.naive_bayes import GaussianNB\n",
    "from sklearn.preprocessing import MinMaxScaler\n",
    "from keras.models import Sequential\n",
    "from keras.layers import Dense, LSTM, Dropout,Input,Normalization\n",
    "from eval_class import *\n",
    "from keras.callbacks import EarlyStopping\n",
    "from keras import regularizers"
   ]
  },
  {
   "cell_type": "code",
   "execution_count": 40,
   "id": "285a2f37",
   "metadata": {
    "ExecuteTime": {
     "end_time": "2023-11-16T07:01:09.053944Z",
     "start_time": "2023-11-16T07:01:09.026690Z"
    }
   },
   "outputs": [],
   "source": [
    "rasad = pd.read_csv(r'C:\\Users\\Sharif\\Downloads\\Compressed\\data_mining_test_Project\\Data.csv')"
   ]
  },
  {
   "cell_type": "code",
   "execution_count": 41,
   "id": "15b85412",
   "metadata": {
    "ExecuteTime": {
     "end_time": "2023-11-16T07:01:10.478520Z",
     "start_time": "2023-11-16T07:01:09.975595Z"
    }
   },
   "outputs": [],
   "source": [
    "L=[12500]\n",
    "for i in range(1,len(rasad)):\n",
    "    L.append(rasad.iloc[i-1]['Close'])\n",
    "rasad['Close-1']=L\n"
   ]
  },
  {
   "cell_type": "code",
   "execution_count": 42,
   "id": "7e75cb3a",
   "metadata": {
    "ExecuteTime": {
     "end_time": "2023-11-16T07:01:11.242584Z",
     "start_time": "2023-11-16T07:01:11.225665Z"
    }
   },
   "outputs": [],
   "source": [
    "rasad=rasad.drop(['Unnamed: 0'],axis=1)\n",
    "rasad=rasad.drop(['signal'],axis=1)"
   ]
  },
  {
   "cell_type": "code",
   "execution_count": 43,
   "id": "b17a20c1",
   "metadata": {
    "ExecuteTime": {
     "end_time": "2023-11-16T07:01:12.057847Z",
     "start_time": "2023-11-16T07:01:12.043340Z"
    }
   },
   "outputs": [],
   "source": [
    "train=rasad[:1907]\n",
    "validation=rasad[1907:]"
   ]
  },
  {
   "cell_type": "code",
   "execution_count": 44,
   "id": "d6464f83",
   "metadata": {
    "ExecuteTime": {
     "end_time": "2023-11-16T07:01:12.895442Z",
     "start_time": "2023-11-16T07:01:12.883221Z"
    }
   },
   "outputs": [
    {
     "name": "stderr",
     "output_type": "stream",
     "text": [
      "C:\\Users\\Sharif\\AppData\\Local\\Temp\\ipykernel_11984\\3528482586.py:1: SettingWithCopyWarning: \n",
      "A value is trying to be set on a copy of a slice from a DataFrame.\n",
      "Try using .loc[row_indexer,col_indexer] = value instead\n",
      "\n",
      "See the caveats in the documentation: https://pandas.pydata.org/pandas-docs/stable/user_guide/indexing.html#returning-a-view-versus-a-copy\n",
      "  train['Close'] = pd.to_numeric(train.Close, errors = 'coerce')\n"
     ]
    }
   ],
   "source": [
    "train['Close'] = pd.to_numeric(train.Close, errors = 'coerce')\n",
    "a=train[['Close']]\n",
    "a = a.dropna()"
   ]
  },
  {
   "cell_type": "code",
   "execution_count": 45,
   "id": "11124dec",
   "metadata": {
    "ExecuteTime": {
     "end_time": "2023-11-16T07:01:13.669044Z",
     "start_time": "2023-11-16T07:01:13.657249Z"
    }
   },
   "outputs": [
    {
     "data": {
      "text/plain": [
       "(1907, 1)"
      ]
     },
     "execution_count": 45,
     "metadata": {},
     "output_type": "execute_result"
    }
   ],
   "source": [
    "sc = MinMaxScaler(feature_range = (0, 1))\n",
    "train_Close= sc.fit_transform(a)\n",
    "train_Close.shape"
   ]
  },
  {
   "cell_type": "code",
   "execution_count": 46,
   "id": "f3129a7c",
   "metadata": {
    "ExecuteTime": {
     "end_time": "2023-11-16T07:01:14.429233Z",
     "start_time": "2023-11-16T07:01:14.411550Z"
    }
   },
   "outputs": [],
   "source": [
    "X_train = []\n",
    "Y_train = []\n",
    "\n",
    "for i in range(15, 1907):   #60 : timestep //1981 : length of the data\n",
    "    X_train.append(train_Close[i-15:i, 0])\n",
    "    Y_train.append(train_Close[i, 0])\n",
    "X_train, Y_train = np.array(X_train), np.array(Y_train)"
   ]
  },
  {
   "cell_type": "code",
   "execution_count": 47,
   "id": "93b9aaa5",
   "metadata": {
    "ExecuteTime": {
     "end_time": "2023-11-16T07:01:15.215852Z",
     "start_time": "2023-11-16T07:01:15.201183Z"
    }
   },
   "outputs": [
    {
     "data": {
      "text/plain": [
       "(1892, 15, 1)"
      ]
     },
     "execution_count": 47,
     "metadata": {},
     "output_type": "execute_result"
    }
   ],
   "source": [
    "X_train = np.reshape(X_train, (X_train.shape[0], X_train.shape[1], 1)) #adding the batch_size axis\n",
    "X_train.shape"
   ]
  },
  {
   "cell_type": "code",
   "execution_count": 48,
   "id": "3bf8e8b0",
   "metadata": {
    "ExecuteTime": {
     "end_time": "2023-11-16T07:01:16.146791Z",
     "start_time": "2023-11-16T07:01:16.112089Z"
    }
   },
   "outputs": [
    {
     "name": "stderr",
     "output_type": "stream",
     "text": [
      "C:\\Users\\Sharif\\AppData\\Local\\Temp\\ipykernel_11984\\2717689737.py:2: SettingWithCopyWarning: \n",
      "A value is trying to be set on a copy of a slice from a DataFrame.\n",
      "Try using .loc[row_indexer,col_indexer] = value instead\n",
      "\n",
      "See the caveats in the documentation: https://pandas.pydata.org/pandas-docs/stable/user_guide/indexing.html#returning-a-view-versus-a-copy\n",
      "  validData['Close'] = pd.to_numeric(validData.Close, errors = 'coerce')\n",
      "C:\\Users\\Sharif\\anaconda3\\envs\\notebook\\lib\\site-packages\\sklearn\\base.py:465: UserWarning: X does not have valid feature names, but MinMaxScaler was fitted with feature names\n",
      "  warnings.warn(\n"
     ]
    },
    {
     "data": {
      "text/plain": [
       "(719, 15, 1)"
      ]
     },
     "execution_count": 48,
     "metadata": {},
     "output_type": "execute_result"
    }
   ],
   "source": [
    "validData = validation[['Close']]\n",
    "validData['Close'] = pd.to_numeric(validData.Close, errors = 'coerce')\n",
    "validData = validData.dropna()\n",
    "Y_valid =validData.iloc[15:, 0:].values\n",
    "#input array for the model\n",
    "inputClosingvalid = validData.iloc[:, 0:].values\n",
    "inputClosingvalid_scaled = sc.transform(inputClosingvalid)\n",
    "inputClosingvalid_scaled.shape\n",
    "X_valid = []\n",
    "length = len(validData)\n",
    "timestep = 15\n",
    "for i in range(timestep, length):\n",
    "    X_valid.append(inputClosingvalid_scaled[i-timestep:i, 0])\n",
    "X_valid = np.array(X_valid)\n",
    "X_valid = np.reshape(X_valid, (X_valid.shape[0], X_valid.shape[1], 1))\n",
    "X_valid.shape"
   ]
  },
  {
   "cell_type": "code",
   "execution_count": 61,
   "id": "e1a8870b",
   "metadata": {
    "ExecuteTime": {
     "end_time": "2023-11-16T07:09:27.719915Z",
     "start_time": "2023-11-16T07:09:27.679951Z"
    }
   },
   "outputs": [],
   "source": [
    "model = Sequential()\n",
    "\n",
    "model.add(Normalization())\n",
    "model.add(LSTM(units = 128, return_sequences = True , input_shape = (X_train.shape[1], 1)))\n",
    "model.add(Dropout(0.2))\n",
    "\n",
    "\n",
    "model.add(LSTM(units = 128, return_sequences = False))\n",
    "model.add(Dropout(0.2))\n",
    "\n",
    "model.add(Dense(units = 1))\n",
    "model.compile(optimizer = 'adam', loss = 'mean_squared_error')"
   ]
  },
  {
   "cell_type": "code",
   "execution_count": 62,
   "id": "219fecde",
   "metadata": {
    "ExecuteTime": {
     "end_time": "2023-11-16T07:10:36.922971Z",
     "start_time": "2023-11-16T07:09:30.524011Z"
    }
   },
   "outputs": [
    {
     "name": "stdout",
     "output_type": "stream",
     "text": [
      "Epoch 1/20\n",
      "60/60 - 12s - loss: 0.0048 - val_loss: 34056491008.0000 - 12s/epoch - 193ms/step\n",
      "Epoch 2/20\n",
      "60/60 - 3s - loss: 7.9490e-04 - val_loss: 34056478720.0000 - 3s/epoch - 47ms/step\n",
      "Epoch 3/20\n",
      "60/60 - 3s - loss: 7.1746e-04 - val_loss: 34056499200.0000 - 3s/epoch - 46ms/step\n",
      "Epoch 4/20\n",
      "60/60 - 3s - loss: 6.5656e-04 - val_loss: 34056474624.0000 - 3s/epoch - 47ms/step\n",
      "Epoch 5/20\n",
      "60/60 - 3s - loss: 7.0745e-04 - val_loss: 34056515584.0000 - 3s/epoch - 51ms/step\n",
      "Epoch 6/20\n",
      "60/60 - 4s - loss: 6.1103e-04 - val_loss: 34056484864.0000 - 4s/epoch - 60ms/step\n",
      "Epoch 7/20\n",
      "60/60 - 3s - loss: 7.5429e-04 - val_loss: 34056460288.0000 - 3s/epoch - 49ms/step\n",
      "Epoch 8/20\n",
      "60/60 - 3s - loss: 5.8367e-04 - val_loss: 34056454144.0000 - 3s/epoch - 44ms/step\n",
      "Epoch 9/20\n",
      "60/60 - 3s - loss: 6.2372e-04 - val_loss: 34056497152.0000 - 3s/epoch - 45ms/step\n",
      "Epoch 10/20\n",
      "60/60 - 3s - loss: 5.6067e-04 - val_loss: 34056474624.0000 - 3s/epoch - 47ms/step\n",
      "Epoch 11/20\n",
      "60/60 - 3s - loss: 5.2447e-04 - val_loss: 34056474624.0000 - 3s/epoch - 45ms/step\n",
      "Epoch 12/20\n",
      "60/60 - 3s - loss: 4.9015e-04 - val_loss: 34056450048.0000 - 3s/epoch - 46ms/step\n",
      "Epoch 13/20\n",
      "60/60 - 3s - loss: 4.4146e-04 - val_loss: 34056488960.0000 - 3s/epoch - 47ms/step\n",
      "Epoch 14/20\n",
      "60/60 - 3s - loss: 4.9825e-04 - val_loss: 34056421376.0000 - 3s/epoch - 46ms/step\n",
      "Epoch 15/20\n",
      "60/60 - 3s - loss: 9.2095e-04 - val_loss: 34056478720.0000 - 3s/epoch - 49ms/step\n",
      "Epoch 16/20\n",
      "60/60 - 3s - loss: 4.3986e-04 - val_loss: 34056491008.0000 - 3s/epoch - 48ms/step\n",
      "Epoch 17/20\n",
      "60/60 - 3s - loss: 5.0488e-04 - val_loss: 34056515584.0000 - 3s/epoch - 50ms/step\n",
      "Epoch 18/20\n",
      "60/60 - 3s - loss: 4.2340e-04 - val_loss: 34056450048.0000 - 3s/epoch - 46ms/step\n",
      "Epoch 19/20\n",
      "60/60 - 3s - loss: 4.4537e-04 - val_loss: 34056497152.0000 - 3s/epoch - 49ms/step\n",
      "Epoch 20/20\n",
      "60/60 - 3s - loss: 4.0712e-04 - val_loss: 34056464384.0000 - 3s/epoch - 48ms/step\n"
     ]
    }
   ],
   "source": [
    "hist = model.fit(X_train, Y_train, batch_size = 32, verbose = 2, validation_data=(X_valid , Y_valid), epochs=20)"
   ]
  },
  {
   "cell_type": "code",
   "execution_count": 63,
   "id": "4d394403",
   "metadata": {
    "ExecuteTime": {
     "end_time": "2023-11-16T07:10:37.342868Z",
     "start_time": "2023-11-16T07:10:37.019715Z"
    }
   },
   "outputs": [
    {
     "data": {
      "image/png": "[encoded data removed]",
      "text/plain": [
       "<Figure size 432x288 with 1 Axes>"
      ]
     },
     "metadata": {
      "needs_background": "light"
     },
     "output_type": "display_data"
    }
   ],
   "source": [
    "plt.plot(hist.history['loss'])\n",
    "plt.title('Training model loss')\n",
    "plt.xlabel('epoch')\n",
    "plt.ylabel('loss')\n",
    "plt.legend(['train'], loc = 'upper left')\n",
    "plt.show()"
   ]
  },
  {
   "cell_type": "code",
   "execution_count": 54,
   "id": "46492fcf",
   "metadata": {
    "ExecuteTime": {
     "end_time": "2023-11-16T07:03:02.223528Z",
     "start_time": "2023-11-16T07:02:59.160294Z"
    }
   },
   "outputs": [
    {
     "name": "stdout",
     "output_type": "stream",
     "text": [
      "60/60 [==============================] - 3s 19ms/step\n"
     ]
    },
    {
     "data": {
      "image/png": "[encoded data removed]",
      "text/plain": [
       "<Figure size 432x288 with 1 Axes>"
      ]
     },
     "metadata": {
      "needs_background": "light"
     },
     "output_type": "display_data"
    }
   ],
   "source": [
    "Y_pred_train = model.predict(X_train)\n",
    "Y_pred_train=np.reshape(Y_pred_train, (Y_pred_train.shape[0], Y_pred_train.shape[1]))\n",
    "\n",
    "predict_price_train = sc.inverse_transform(Y_pred_train)\n",
    "a=train.iloc[15:][['Close']]\n",
    "a=a.Close.tolist()\n",
    "plt.plot(a, color = 'green', label = 'Actual Stock Price')\n",
    "plt.plot(predict_price_train, color = 'orange', label = 'Predicted Stock Price')\n",
    "plt.title('Bitcoin Price Prediction')\n",
    "plt.xlabel('Time')\n",
    "plt.ylabel('Stock Price')\n",
    "plt.legend()\n",
    "plt.show()"
   ]
  },
  {
   "cell_type": "code",
   "execution_count": 65,
   "id": "feec39ab",
   "metadata": {
    "ExecuteTime": {
     "end_time": "2023-11-16T07:11:04.658405Z",
     "start_time": "2023-11-16T07:11:03.139454Z"
    }
   },
   "outputs": [
    {
     "name": "stdout",
     "output_type": "stream",
     "text": [
      "60/60 [==============================] - 1s 17ms/step\n"
     ]
    },
    {
     "data": {
      "image/png": "[encoded data removed]",
      "text/plain": [
       "<Figure size 432x288 with 1 Axes>"
      ]
     },
     "metadata": {
      "needs_background": "light"
     },
     "output_type": "display_data"
    }
   ],
   "source": [
    "Y_pred_train = model.predict(X_train)\n",
    "Y_pred_train=np.reshape(Y_pred_train, (Y_pred_train.shape[0], Y_pred_train.shape[1]))\n",
    "\n",
    "predict_price_train = sc.inverse_transform(Y_pred_train)\n",
    "a=train.iloc[15:][['Close']]\n",
    "a=a.Close.tolist()\n",
    "plt.scatter(np.arange(0,100,1),a[:100], color = 'green', label = 'Actual Stock Price')\n",
    "plt.scatter(np.arange(0,100,1),predict_price_train[:100], color = 'orange', label = 'Predicted Stock Price')\n",
    "plt.title(' Price Prediction')\n",
    "plt.xlabel('Time')\n",
    "plt.ylabel('Stock Price')\n",
    "plt.legend()\n",
    "plt.show()"
   ]
  },
  {
   "cell_type": "code",
   "execution_count": 16,
   "id": "da33ab81",
   "metadata": {
    "ExecuteTime": {
     "end_time": "2023-11-15T12:30:46.972936Z",
     "start_time": "2023-11-15T12:30:46.626900Z"
    }
   },
   "outputs": [
    {
     "name": "stdout",
     "output_type": "stream",
     "text": [
      "23/23 [==============================] - 0s 6ms/step\n"
     ]
    },
    {
     "data": {
      "image/png": "[encoded data removed]",
      "text/plain": [
       "<Figure size 432x288 with 1 Axes>"
      ]
     },
     "metadata": {
      "needs_background": "light"
     },
     "output_type": "display_data"
    }
   ],
   "source": [
    "Y_pred_valid = model.predict(X_valid)\n",
    "predict_price_valid = sc.inverse_transform(Y_pred_valid)\n",
    "plt.plot(Y_valid, color = 'green', label = 'Actual Stock Price')\n",
    "plt.plot(predict_price_valid, color = 'orange', label = 'Predicted Stock Price')\n",
    "plt.title('Bitcoin Price Prediction')\n",
    "plt.xlabel('Time')\n",
    "plt.ylabel('Stock Price')\n",
    "plt.legend()\n",
    "plt.show()"
   ]
  },
  {
   "cell_type": "code",
   "execution_count": 28,
   "id": "d4765a6c",
   "metadata": {
    "ExecuteTime": {
     "end_time": "2023-11-15T13:49:09.234389Z",
     "start_time": "2023-11-15T13:49:09.215033Z"
    }
   },
   "outputs": [],
   "source": [
    "p_price_valid=[]\n",
    "for i in range(len(predict_price_valid)):\n",
    "    p_price_valid.append(predict_price_valid[i][0])\n",
    "    \n",
    "datas={\n",
    "    \"Close_pred\":p_price_valid,\n",
    "    \"close\":validation[15:].Close.tolist() ,\n",
    "    \"Date\":validation[15:].Date.tolist()\n",
    "}\n",
    "Predict_price_valid=pd.DataFrame(datas)\n",
    "\n",
    "\n",
    "Predict_price_valid.to_csv('Predict_price_valid.csv', sep=',', index=False, encoding='utf-8')\n"
   ]
  },
  {
   "cell_type": "code",
   "execution_count": 29,
   "id": "5c54ce5d",
   "metadata": {
    "ExecuteTime": {
     "end_time": "2023-11-15T13:49:09.847750Z",
     "start_time": "2023-11-15T13:49:09.831580Z"
    }
   },
   "outputs": [],
   "source": [
    "p_price_train=[]\n",
    "for i in range(len(predict_price_train)):\n",
    "    p_price_train.append(predict_price_train[i][0])\n",
    "\n",
    "datas={\n",
    "    \"Close_pred\":p_price_train,\n",
    "    \"close\":train[15:].Close.tolist(),\n",
    "    \"Date\":train[15:].Date.tolist()\n",
    "}\n",
    "Predict_price_train=pd.DataFrame(datas)\n",
    "\n",
    "\n",
    "Predict_price_train.to_csv('Predict_price_train.csv', sep=',', index=False, encoding='utf-8')"
   ]
  },
  {
   "cell_type": "code",
   "execution_count": 3,
   "id": "289e1c6b",
   "metadata": {
    "ExecuteTime": {
     "end_time": "2023-11-16T06:37:34.550549Z",
     "start_time": "2023-11-16T06:37:34.536186Z"
    }
   },
   "outputs": [],
   "source": [
    "Predict_price_train = pd.read_csv(r'Predict_price_train.csv')\n",
    "Predict_price_valid = pd.read_csv(r'Predict_price_valid.csv')"
   ]
  },
  {
   "cell_type": "code",
   "execution_count": 4,
   "id": "42efff80",
   "metadata": {
    "ExecuteTime": {
     "end_time": "2023-11-16T06:37:35.155419Z",
     "start_time": "2023-11-16T06:37:35.119151Z"
    }
   },
   "outputs": [
    {
     "data": {
      "text/html": [
       "<div>\n",
       "<style scoped>\n",
       "    .dataframe tbody tr th:only-of-type {\n",
       "        vertical-align: middle;\n",
       "    }\n",
       "\n",
       "    .dataframe tbody tr th {\n",
       "        vertical-align: top;\n",
       "    }\n",
       "\n",
       "    .dataframe thead th {\n",
       "        text-align: right;\n",
       "    }\n",
       "</style>\n",
       "<table border=\"1\" class=\"dataframe\">\n",
       "  <thead>\n",
       "    <tr style=\"text-align: right;\">\n",
       "      <th></th>\n",
       "      <th>Close_pred</th>\n",
       "      <th>close</th>\n",
       "      <th>Date</th>\n",
       "    </tr>\n",
       "  </thead>\n",
       "  <tbody>\n",
       "    <tr>\n",
       "      <th>0</th>\n",
       "      <td>12114.414</td>\n",
       "      <td>12500</td>\n",
       "      <td>20110806</td>\n",
       "    </tr>\n",
       "    <tr>\n",
       "      <th>1</th>\n",
       "      <td>12113.396</td>\n",
       "      <td>12500</td>\n",
       "      <td>20110807</td>\n",
       "    </tr>\n",
       "    <tr>\n",
       "      <th>2</th>\n",
       "      <td>12113.257</td>\n",
       "      <td>12500</td>\n",
       "      <td>20110808</td>\n",
       "    </tr>\n",
       "    <tr>\n",
       "      <th>3</th>\n",
       "      <td>12113.564</td>\n",
       "      <td>12490</td>\n",
       "      <td>20110809</td>\n",
       "    </tr>\n",
       "    <tr>\n",
       "      <th>4</th>\n",
       "      <td>12111.791</td>\n",
       "      <td>12350</td>\n",
       "      <td>20110810</td>\n",
       "    </tr>\n",
       "    <tr>\n",
       "      <th>...</th>\n",
       "      <td>...</td>\n",
       "      <td>...</td>\n",
       "      <td>...</td>\n",
       "    </tr>\n",
       "    <tr>\n",
       "      <th>1887</th>\n",
       "      <td>91606.945</td>\n",
       "      <td>103391</td>\n",
       "      <td>20200427</td>\n",
       "    </tr>\n",
       "    <tr>\n",
       "      <th>1888</th>\n",
       "      <td>95065.970</td>\n",
       "      <td>107117</td>\n",
       "      <td>20200428</td>\n",
       "    </tr>\n",
       "    <tr>\n",
       "      <th>1889</th>\n",
       "      <td>99141.080</td>\n",
       "      <td>111480</td>\n",
       "      <td>20200429</td>\n",
       "    </tr>\n",
       "    <tr>\n",
       "      <th>1890</th>\n",
       "      <td>103581.060</td>\n",
       "      <td>117054</td>\n",
       "      <td>20200502</td>\n",
       "    </tr>\n",
       "    <tr>\n",
       "      <th>1891</th>\n",
       "      <td>108547.640</td>\n",
       "      <td>122906</td>\n",
       "      <td>20200503</td>\n",
       "    </tr>\n",
       "  </tbody>\n",
       "</table>\n",
       "<p>1892 rows × 3 columns</p>\n",
       "</div>"
      ],
      "text/plain": [
       "      Close_pred   close      Date\n",
       "0      12114.414   12500  20110806\n",
       "1      12113.396   12500  20110807\n",
       "2      12113.257   12500  20110808\n",
       "3      12113.564   12490  20110809\n",
       "4      12111.791   12350  20110810\n",
       "...          ...     ...       ...\n",
       "1887   91606.945  103391  20200427\n",
       "1888   95065.970  107117  20200428\n",
       "1889   99141.080  111480  20200429\n",
       "1890  103581.060  117054  20200502\n",
       "1891  108547.640  122906  20200503\n",
       "\n",
       "[1892 rows x 3 columns]"
      ]
     },
     "execution_count": 4,
     "metadata": {},
     "output_type": "execute_result"
    }
   ],
   "source": [
    "Predict_price_train"
   ]
  },
  {
   "cell_type": "code",
   "execution_count": 22,
   "id": "16a0b692",
   "metadata": {
    "ExecuteTime": {
     "end_time": "2023-11-15T12:34:56.196995Z",
     "start_time": "2023-11-15T12:34:56.183954Z"
    }
   },
   "outputs": [
    {
     "data": {
      "text/html": [
       "<div>\n",
       "<style scoped>\n",
       "    .dataframe tbody tr th:only-of-type {\n",
       "        vertical-align: middle;\n",
       "    }\n",
       "\n",
       "    .dataframe tbody tr th {\n",
       "        vertical-align: top;\n",
       "    }\n",
       "\n",
       "    .dataframe thead th {\n",
       "        text-align: right;\n",
       "    }\n",
       "</style>\n",
       "<table border=\"1\" class=\"dataframe\">\n",
       "  <thead>\n",
       "    <tr style=\"text-align: right;\">\n",
       "      <th></th>\n",
       "      <th>Close_pred</th>\n",
       "      <th>close</th>\n",
       "    </tr>\n",
       "  </thead>\n",
       "  <tbody>\n",
       "    <tr>\n",
       "      <th>0</th>\n",
       "      <td>110688.030</td>\n",
       "      <td>118000</td>\n",
       "    </tr>\n",
       "    <tr>\n",
       "      <th>1</th>\n",
       "      <td>112334.960</td>\n",
       "      <td>120341</td>\n",
       "    </tr>\n",
       "    <tr>\n",
       "      <th>2</th>\n",
       "      <td>114490.580</td>\n",
       "      <td>124995</td>\n",
       "    </tr>\n",
       "    <tr>\n",
       "      <th>3</th>\n",
       "      <td>117657.790</td>\n",
       "      <td>131244</td>\n",
       "    </tr>\n",
       "    <tr>\n",
       "      <th>4</th>\n",
       "      <td>122202.016</td>\n",
       "      <td>129900</td>\n",
       "    </tr>\n",
       "    <tr>\n",
       "      <th>...</th>\n",
       "      <td>...</td>\n",
       "      <td>...</td>\n",
       "    </tr>\n",
       "    <tr>\n",
       "      <th>714</th>\n",
       "      <td>139181.560</td>\n",
       "      <td>140000</td>\n",
       "    </tr>\n",
       "    <tr>\n",
       "      <th>715</th>\n",
       "      <td>138373.300</td>\n",
       "      <td>133650</td>\n",
       "    </tr>\n",
       "    <tr>\n",
       "      <th>716</th>\n",
       "      <td>135573.620</td>\n",
       "      <td>133400</td>\n",
       "    </tr>\n",
       "    <tr>\n",
       "      <th>717</th>\n",
       "      <td>132931.530</td>\n",
       "      <td>136450</td>\n",
       "    </tr>\n",
       "    <tr>\n",
       "      <th>718</th>\n",
       "      <td>132107.080</td>\n",
       "      <td>136500</td>\n",
       "    </tr>\n",
       "  </tbody>\n",
       "</table>\n",
       "<p>719 rows × 2 columns</p>\n",
       "</div>"
      ],
      "text/plain": [
       "     Close_pred   close\n",
       "0    110688.030  118000\n",
       "1    112334.960  120341\n",
       "2    114490.580  124995\n",
       "3    117657.790  131244\n",
       "4    122202.016  129900\n",
       "..          ...     ...\n",
       "714  139181.560  140000\n",
       "715  138373.300  133650\n",
       "716  135573.620  133400\n",
       "717  132931.530  136450\n",
       "718  132107.080  136500\n",
       "\n",
       "[719 rows x 2 columns]"
      ]
     },
     "execution_count": 22,
     "metadata": {},
     "output_type": "execute_result"
    }
   ],
   "source": [
    "Predict_price_valid"
   ]
  },
  {
   "cell_type": "code",
   "execution_count": 17,
   "id": "651f0478",
   "metadata": {
    "ExecuteTime": {
     "end_time": "2023-11-16T06:43:05.525928Z",
     "start_time": "2023-11-16T06:43:05.507618Z"
    }
   },
   "outputs": [],
   "source": [
    "rasad= rasad.merge(Predict_price_valid, left_on='Close', right_on='close')"
   ]
  },
  {
   "cell_type": "code",
   "execution_count": 18,
   "id": "9016b029",
   "metadata": {
    "ExecuteTime": {
     "end_time": "2023-11-16T06:43:11.817384Z",
     "start_time": "2023-11-16T06:43:11.777881Z"
    }
   },
   "outputs": [
    {
     "data": {
      "text/html": [
       "<div>\n",
       "<style scoped>\n",
       "    .dataframe tbody tr th:only-of-type {\n",
       "        vertical-align: middle;\n",
       "    }\n",
       "\n",
       "    .dataframe tbody tr th {\n",
       "        vertical-align: top;\n",
       "    }\n",
       "\n",
       "    .dataframe thead th {\n",
       "        text-align: right;\n",
       "    }\n",
       "</style>\n",
       "<table border=\"1\" class=\"dataframe\">\n",
       "  <thead>\n",
       "    <tr style=\"text-align: right;\">\n",
       "      <th></th>\n",
       "      <th>Date_x</th>\n",
       "      <th>Open</th>\n",
       "      <th>High</th>\n",
       "      <th>Low</th>\n",
       "      <th>Close</th>\n",
       "      <th>v_i_buy</th>\n",
       "      <th>v_n_buy</th>\n",
       "      <th>v_i_sell</th>\n",
       "      <th>v_n_sell</th>\n",
       "      <th>n_i_buy</th>\n",
       "      <th>...</th>\n",
       "      <th>n_n_sell</th>\n",
       "      <th>f1</th>\n",
       "      <th>f2</th>\n",
       "      <th>f3</th>\n",
       "      <th>f4</th>\n",
       "      <th>f5</th>\n",
       "      <th>f6</th>\n",
       "      <th>Close_pred</th>\n",
       "      <th>close</th>\n",
       "      <th>Date_y</th>\n",
       "    </tr>\n",
       "  </thead>\n",
       "  <tbody>\n",
       "    <tr>\n",
       "      <th>0</th>\n",
       "      <td>20200601</td>\n",
       "      <td>114100</td>\n",
       "      <td>119999</td>\n",
       "      <td>112002</td>\n",
       "      <td>118000</td>\n",
       "      <td>1239676.0</td>\n",
       "      <td>166721.0</td>\n",
       "      <td>697937.0</td>\n",
       "      <td>708460.0</td>\n",
       "      <td>775.0</td>\n",
       "      <td>...</td>\n",
       "      <td>6.0</td>\n",
       "      <td>0.184714</td>\n",
       "      <td>0.269600</td>\n",
       "      <td>1.000000</td>\n",
       "      <td>1.178220</td>\n",
       "      <td>0.000000</td>\n",
       "      <td>-0.053678</td>\n",
       "      <td>110688.030</td>\n",
       "      <td>118000</td>\n",
       "      <td>20200601</td>\n",
       "    </tr>\n",
       "    <tr>\n",
       "      <th>1</th>\n",
       "      <td>20200601</td>\n",
       "      <td>114100</td>\n",
       "      <td>119999</td>\n",
       "      <td>112002</td>\n",
       "      <td>118000</td>\n",
       "      <td>1239676.0</td>\n",
       "      <td>166721.0</td>\n",
       "      <td>697937.0</td>\n",
       "      <td>708460.0</td>\n",
       "      <td>775.0</td>\n",
       "      <td>...</td>\n",
       "      <td>6.0</td>\n",
       "      <td>0.184714</td>\n",
       "      <td>0.269600</td>\n",
       "      <td>1.000000</td>\n",
       "      <td>1.178220</td>\n",
       "      <td>0.000000</td>\n",
       "      <td>-0.053678</td>\n",
       "      <td>112281.336</td>\n",
       "      <td>118000</td>\n",
       "      <td>20221116</td>\n",
       "    </tr>\n",
       "    <tr>\n",
       "      <th>2</th>\n",
       "      <td>20221116</td>\n",
       "      <td>117050</td>\n",
       "      <td>118550</td>\n",
       "      <td>113400</td>\n",
       "      <td>118000</td>\n",
       "      <td>230215.0</td>\n",
       "      <td>319039.0</td>\n",
       "      <td>535254.0</td>\n",
       "      <td>14000.0</td>\n",
       "      <td>223.0</td>\n",
       "      <td>...</td>\n",
       "      <td>3.0</td>\n",
       "      <td>0.747331</td>\n",
       "      <td>0.841983</td>\n",
       "      <td>0.064013</td>\n",
       "      <td>0.644810</td>\n",
       "      <td>-0.666282</td>\n",
       "      <td>8.515931</td>\n",
       "      <td>110688.030</td>\n",
       "      <td>118000</td>\n",
       "      <td>20200601</td>\n",
       "    </tr>\n",
       "    <tr>\n",
       "      <th>3</th>\n",
       "      <td>20221116</td>\n",
       "      <td>117050</td>\n",
       "      <td>118550</td>\n",
       "      <td>113400</td>\n",
       "      <td>118000</td>\n",
       "      <td>230215.0</td>\n",
       "      <td>319039.0</td>\n",
       "      <td>535254.0</td>\n",
       "      <td>14000.0</td>\n",
       "      <td>223.0</td>\n",
       "      <td>...</td>\n",
       "      <td>3.0</td>\n",
       "      <td>0.747331</td>\n",
       "      <td>0.841983</td>\n",
       "      <td>0.064013</td>\n",
       "      <td>0.644810</td>\n",
       "      <td>-0.666282</td>\n",
       "      <td>8.515931</td>\n",
       "      <td>112281.336</td>\n",
       "      <td>118000</td>\n",
       "      <td>20221116</td>\n",
       "    </tr>\n",
       "    <tr>\n",
       "      <th>4</th>\n",
       "      <td>20200602</td>\n",
       "      <td>118888</td>\n",
       "      <td>120341</td>\n",
       "      <td>115066</td>\n",
       "      <td>120341</td>\n",
       "      <td>1665109.0</td>\n",
       "      <td>109020.0</td>\n",
       "      <td>1218352.0</td>\n",
       "      <td>555777.0</td>\n",
       "      <td>723.0</td>\n",
       "      <td>...</td>\n",
       "      <td>5.0</td>\n",
       "      <td>0.142586</td>\n",
       "      <td>0.232979</td>\n",
       "      <td>0.954934</td>\n",
       "      <td>1.205150</td>\n",
       "      <td>-0.045066</td>\n",
       "      <td>3.349921</td>\n",
       "      <td>112334.960</td>\n",
       "      <td>120341</td>\n",
       "      <td>20200602</td>\n",
       "    </tr>\n",
       "    <tr>\n",
       "      <th>...</th>\n",
       "      <td>...</td>\n",
       "      <td>...</td>\n",
       "      <td>...</td>\n",
       "      <td>...</td>\n",
       "      <td>...</td>\n",
       "      <td>...</td>\n",
       "      <td>...</td>\n",
       "      <td>...</td>\n",
       "      <td>...</td>\n",
       "      <td>...</td>\n",
       "      <td>...</td>\n",
       "      <td>...</td>\n",
       "      <td>...</td>\n",
       "      <td>...</td>\n",
       "      <td>...</td>\n",
       "      <td>...</td>\n",
       "      <td>...</td>\n",
       "      <td>...</td>\n",
       "      <td>...</td>\n",
       "      <td>...</td>\n",
       "      <td>...</td>\n",
       "    </tr>\n",
       "    <tr>\n",
       "      <th>838</th>\n",
       "      <td>20230708</td>\n",
       "      <td>141550</td>\n",
       "      <td>144300</td>\n",
       "      <td>140000</td>\n",
       "      <td>140700</td>\n",
       "      <td>452336.0</td>\n",
       "      <td>25042.0</td>\n",
       "      <td>358911.0</td>\n",
       "      <td>118467.0</td>\n",
       "      <td>464.0</td>\n",
       "      <td>...</td>\n",
       "      <td>3.0</td>\n",
       "      <td>0.141847</td>\n",
       "      <td>0.289261</td>\n",
       "      <td>0.994867</td>\n",
       "      <td>0.889799</td>\n",
       "      <td>0.532186</td>\n",
       "      <td>-2.654331</td>\n",
       "      <td>140375.470</td>\n",
       "      <td>140700</td>\n",
       "      <td>20230708</td>\n",
       "    </tr>\n",
       "    <tr>\n",
       "      <th>839</th>\n",
       "      <td>20230709</td>\n",
       "      <td>143000</td>\n",
       "      <td>143800</td>\n",
       "      <td>141000</td>\n",
       "      <td>142600</td>\n",
       "      <td>476754.0</td>\n",
       "      <td>2000.0</td>\n",
       "      <td>422394.0</td>\n",
       "      <td>56360.0</td>\n",
       "      <td>431.0</td>\n",
       "      <td>...</td>\n",
       "      <td>3.0</td>\n",
       "      <td>0.095552</td>\n",
       "      <td>0.224729</td>\n",
       "      <td>0.778586</td>\n",
       "      <td>0.922435</td>\n",
       "      <td>0.270728</td>\n",
       "      <td>-4.050348</td>\n",
       "      <td>139420.550</td>\n",
       "      <td>142600</td>\n",
       "      <td>20230709</td>\n",
       "    </tr>\n",
       "    <tr>\n",
       "      <th>840</th>\n",
       "      <td>20230711</td>\n",
       "      <td>139000</td>\n",
       "      <td>139000</td>\n",
       "      <td>133300</td>\n",
       "      <td>133650</td>\n",
       "      <td>377747.0</td>\n",
       "      <td>20807.0</td>\n",
       "      <td>398354.0</td>\n",
       "      <td>200.0</td>\n",
       "      <td>347.0</td>\n",
       "      <td>...</td>\n",
       "      <td>1.0</td>\n",
       "      <td>0.182436</td>\n",
       "      <td>0.291115</td>\n",
       "      <td>1.000000</td>\n",
       "      <td>1.027145</td>\n",
       "      <td>0.005133</td>\n",
       "      <td>-3.953175</td>\n",
       "      <td>138373.300</td>\n",
       "      <td>133650</td>\n",
       "      <td>20230711</td>\n",
       "    </tr>\n",
       "    <tr>\n",
       "      <th>841</th>\n",
       "      <td>20230715</td>\n",
       "      <td>133800</td>\n",
       "      <td>138900</td>\n",
       "      <td>133650</td>\n",
       "      <td>136450</td>\n",
       "      <td>507663.0</td>\n",
       "      <td>21897.0</td>\n",
       "      <td>344784.0</td>\n",
       "      <td>184776.0</td>\n",
       "      <td>449.0</td>\n",
       "      <td>...</td>\n",
       "      <td>3.0</td>\n",
       "      <td>0.343409</td>\n",
       "      <td>0.508836</td>\n",
       "      <td>0.992386</td>\n",
       "      <td>1.058249</td>\n",
       "      <td>-0.007614</td>\n",
       "      <td>-7.833776</td>\n",
       "      <td>132931.530</td>\n",
       "      <td>136450</td>\n",
       "      <td>20230715</td>\n",
       "    </tr>\n",
       "    <tr>\n",
       "      <th>842</th>\n",
       "      <td>20230716</td>\n",
       "      <td>137200</td>\n",
       "      <td>140000</td>\n",
       "      <td>136450</td>\n",
       "      <td>136500</td>\n",
       "      <td>510812.0</td>\n",
       "      <td>49575.0</td>\n",
       "      <td>535621.0</td>\n",
       "      <td>24766.0</td>\n",
       "      <td>385.0</td>\n",
       "      <td>...</td>\n",
       "      <td>2.0</td>\n",
       "      <td>0.334745</td>\n",
       "      <td>0.474991</td>\n",
       "      <td>0.996035</td>\n",
       "      <td>1.061238</td>\n",
       "      <td>-0.003965</td>\n",
       "      <td>-3.475424</td>\n",
       "      <td>132107.080</td>\n",
       "      <td>136500</td>\n",
       "      <td>20230716</td>\n",
       "    </tr>\n",
       "  </tbody>\n",
       "</table>\n",
       "<p>843 rows × 22 columns</p>\n",
       "</div>"
      ],
      "text/plain": [
       "       Date_x    Open    High     Low   Close    v_i_buy   v_n_buy   v_i_sell  \\\n",
       "0    20200601  114100  119999  112002  118000  1239676.0  166721.0   697937.0   \n",
       "1    20200601  114100  119999  112002  118000  1239676.0  166721.0   697937.0   \n",
       "2    20221116  117050  118550  113400  118000   230215.0  319039.0   535254.0   \n",
       "3    20221116  117050  118550  113400  118000   230215.0  319039.0   535254.0   \n",
       "4    20200602  118888  120341  115066  120341  1665109.0  109020.0  1218352.0   \n",
       "..        ...     ...     ...     ...     ...        ...       ...        ...   \n",
       "838  20230708  141550  144300  140000  140700   452336.0   25042.0   358911.0   \n",
       "839  20230709  143000  143800  141000  142600   476754.0    2000.0   422394.0   \n",
       "840  20230711  139000  139000  133300  133650   377747.0   20807.0   398354.0   \n",
       "841  20230715  133800  138900  133650  136450   507663.0   21897.0   344784.0   \n",
       "842  20230716  137200  140000  136450  136500   510812.0   49575.0   535621.0   \n",
       "\n",
       "     v_n_sell  n_i_buy  ...  n_n_sell        f1        f2        f3        f4  \\\n",
       "0    708460.0    775.0  ...       6.0  0.184714  0.269600  1.000000  1.178220   \n",
       "1    708460.0    775.0  ...       6.0  0.184714  0.269600  1.000000  1.178220   \n",
       "2     14000.0    223.0  ...       3.0  0.747331  0.841983  0.064013  0.644810   \n",
       "3     14000.0    223.0  ...       3.0  0.747331  0.841983  0.064013  0.644810   \n",
       "4    555777.0    723.0  ...       5.0  0.142586  0.232979  0.954934  1.205150   \n",
       "..        ...      ...  ...       ...       ...       ...       ...       ...   \n",
       "838  118467.0    464.0  ...       3.0  0.141847  0.289261  0.994867  0.889799   \n",
       "839   56360.0    431.0  ...       3.0  0.095552  0.224729  0.778586  0.922435   \n",
       "840     200.0    347.0  ...       1.0  0.182436  0.291115  1.000000  1.027145   \n",
       "841  184776.0    449.0  ...       3.0  0.343409  0.508836  0.992386  1.058249   \n",
       "842   24766.0    385.0  ...       2.0  0.334745  0.474991  0.996035  1.061238   \n",
       "\n",
       "           f5        f6  Close_pred   close    Date_y  \n",
       "0    0.000000 -0.053678  110688.030  118000  20200601  \n",
       "1    0.000000 -0.053678  112281.336  118000  20221116  \n",
       "2   -0.666282  8.515931  110688.030  118000  20200601  \n",
       "3   -0.666282  8.515931  112281.336  118000  20221116  \n",
       "4   -0.045066  3.349921  112334.960  120341  20200602  \n",
       "..        ...       ...         ...     ...       ...  \n",
       "838  0.532186 -2.654331  140375.470  140700  20230708  \n",
       "839  0.270728 -4.050348  139420.550  142600  20230709  \n",
       "840  0.005133 -3.953175  138373.300  133650  20230711  \n",
       "841 -0.007614 -7.833776  132931.530  136450  20230715  \n",
       "842 -0.003965 -3.475424  132107.080  136500  20230716  \n",
       "\n",
       "[843 rows x 22 columns]"
      ]
     },
     "execution_count": 18,
     "metadata": {},
     "output_type": "execute_result"
    }
   ],
   "source": [
    "rasad"
   ]
  },
  {
   "cell_type": "code",
   "execution_count": 10,
   "id": "6abb173d",
   "metadata": {
    "ExecuteTime": {
     "end_time": "2023-11-16T06:40:27.909495Z",
     "start_time": "2023-11-16T06:40:27.889914Z"
    }
   },
   "outputs": [
    {
     "data": {
      "text/plain": [
       "[126922,\n",
       " 129800,\n",
       " 122178,\n",
       " 117472,\n",
       " 111846,\n",
       " 107331,\n",
       " 113020,\n",
       " 117680,\n",
       " 119999,\n",
       " 118002,\n",
       " 112000,\n",
       " 106101,\n",
       " 112222,\n",
       " 117425,\n",
       " 114200,\n",
       " 118000,\n",
       " 120341,\n",
       " 124995,\n",
       " 131244,\n",
       " 129900]"
      ]
     },
     "execution_count": 10,
     "metadata": {},
     "output_type": "execute_result"
    }
   ],
   "source": [
    "validation.Close[:20].tolist()"
   ]
  },
  {
   "cell_type": "code",
   "execution_count": 14,
   "id": "2cb5923f",
   "metadata": {
    "ExecuteTime": {
     "end_time": "2023-11-16T06:41:26.927685Z",
     "start_time": "2023-11-16T06:41:26.909974Z"
    }
   },
   "outputs": [
    {
     "data": {
      "text/plain": [
       "[110688.03,\n",
       " 112334.96,\n",
       " 114490.58,\n",
       " 117657.79,\n",
       " 122202.016,\n",
       " 125414.25,\n",
       " 130248.125,\n",
       " 135998.8,\n",
       " 142651.67,\n",
       " 148899.45,\n",
       " 155482.1,\n",
       " 159509.22,\n",
       " 163446.36,\n",
       " 167532.81,\n",
       " 172108.12,\n",
       " 175588.02,\n",
       " 174118.2,\n",
       " 169516.16,\n",
       " 168074.56,\n",
       " 170945.55]"
      ]
     },
     "execution_count": 14,
     "metadata": {},
     "output_type": "execute_result"
    }
   ],
   "source": [
    "Predict_price_valid.Close_pred[:20].tolist()"
   ]
  },
  {
   "cell_type": "code",
   "execution_count": 38,
   "id": "bb154263",
   "metadata": {
    "ExecuteTime": {
     "end_time": "2023-11-16T07:00:08.312825Z",
     "start_time": "2023-11-16T07:00:07.944921Z"
    }
   },
   "outputs": [
    {
     "data": {
      "image/png": "[encoded data removed]",
      "text/plain": [
       "<Figure size 432x288 with 1 Axes>"
      ]
     },
     "metadata": {
      "needs_background": "light"
     },
     "output_type": "display_data"
    }
   ],
   "source": [
    "\n",
    "plt.scatter(rasad.index[:220],rasad.Close[40:260], color = 'green', label = 'Actual Stock Price')\n",
    "plt.scatter(rasad.index[:220],Predict_price_valid.Close_pred[:220], color = 'orange', label = 'Predicted Stock Price')\n",
    "plt.title('Bitcoin Price Prediction')\n",
    "plt.xlabel('Time')\n",
    "plt.ylabel('Stock Price')\n",
    "plt.legend()\n",
    "plt.show()"
   ]
  },
  {
   "cell_type": "code",
   "execution_count": null,
   "id": "bb8d59db",
   "metadata": {},
   "outputs": [],
   "source": []
  }
 ],
 "metadata": {
  "kernelspec": {
   "display_name": "Python 3 (ipykernel)",
   "language": "python",
   "name": "python3"
  },
  "language_info": {
   "codemirror_mode": {
    "name": "ipython",
    "version": 3
   },
   "file_extension": ".py",
   "mimetype": "text/x-python",
   "name": "python",
   "nbconvert_exporter": "python",
   "pygments_lexer": "ipython3",
   "version": "3.9.12"
  },
  "nbTranslate": {
   "displayLangs": [
    "en"
   ],
   "hotkey": "alt-t",
   "langInMainMenu": true,
   "sourceLang": "en",
   "targetLang": "fr",
   "useGoogleTranslate": true
  },
  "toc": {
   "base_numbering": 1,
   "nav_menu": {},
   "number_sections": true,
   "sideBar": true,
   "skip_h1_title": false,
   "title_cell": "Table of Contents",
   "title_sidebar": "Contents",
   "toc_cell": false,
   "toc_position": {},
   "toc_section_display": true,
   "toc_window_display": false
  },
  "varInspector": {
   "cols": {
    "lenName": 16,
    "lenType": 16,
    "lenVar": 40
   },
   "kernels_config": {
    "python": {
     "delete_cmd_postfix": "",
     "delete_cmd_prefix": "del ",
     "library": "var_list.py",
     "varRefreshCmd": "print(var_dic_list())"
    },
    "r": {
     "delete_cmd_postfix": ") ",
     "delete_cmd_prefix": "rm(",
     "library": "var_list.r",
     "varRefreshCmd": "cat(var_dic_list()) "
    }
   },
   "types_to_exclude": [
    "module",
    "function",
    "builtin_function_or_method",
    "instance",
    "_Feature"
   ],
   "window_display": false
  }
 },
 "nbformat": 4,
 "nbformat_minor": 5
}
